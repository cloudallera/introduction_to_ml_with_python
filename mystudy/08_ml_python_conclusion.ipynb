{
 "cells": [
  {
   "cell_type": "markdown",
   "metadata": {},
   "source": [
    "# 8. 마무리"
   ]
  },
  {
   "cell_type": "markdown",
   "metadata": {},
   "source": [
    "## 8.4 나만의 추정기 만들기"
   ]
  },
  {
   "cell_type": "code",
   "execution_count": 1,
   "metadata": {},
   "outputs": [],
   "source": [
    "from sklearn.base import BaseEstimator, TransformerMixin\n",
    "\n",
    "class MyTransformer(BaseEstimator, TransformerMixin):\n",
    "    def __init__(self, first_parameter=1, second_parameter=2):\n",
    "        # __init__ 매서드에 필요한 모든 매개변수를 나열 합니다.\n",
    "        self.first_parameter = first_parameter\n",
    "        self.second_parameter = second_parameter\n",
    "        \n",
    "    def fit(self, X, y=None):\n",
    "        # fit 매서드는 X와 y 매개변수 만을 갖습니다.\n",
    "        # 비지도 학습 모델이더라도, y 매개변수를 받도록 해야 합니다.\n",
    "        \n",
    "        # 모델 학습 시작\n",
    "        print('모델 학습을 시작 합니다.')\n",
    "        \n",
    "        # 개체 자신인 self를 반환 합니다.\n",
    "        return self\n",
    "    \n",
    "    def transform(self, X):\n",
    "        # transform 매서드는 X 매개변수 만을 받습니다.\n",
    "        \n",
    "        # X를 변환 합니다.\n",
    "        X_transformed = X + 1\n",
    "        return X_transformed"
   ]
  },
  {
   "cell_type": "code",
   "execution_count": 2,
   "metadata": {},
   "outputs": [
    {
     "name": "stdout",
     "output_type": "stream",
     "text": [
      "학습 데이터 >>>\n",
      "mean: 1.603\n",
      "std: 2.025\n",
      "min: -3.018\n",
      "max: 5.506\n",
      "모델 학습을 시작 합니다.\n",
      "변환된 학습 데이터 >>>\n",
      "mean: 2.603\n",
      "std: 2.025\n",
      "min: -2.018\n",
      "max: 6.506\n"
     ]
    }
   ],
   "source": [
    "from sklearn.datasets import make_blobs\n",
    "from sklearn.model_selection import train_test_split\n",
    "\n",
    "X, y = make_blobs(random_state=0)\n",
    "X_train, X_test, y_train, y_test = train_test_split(X, y, random_state=0)\n",
    "\n",
    "print('학습 데이터 >>>')\n",
    "print(\"mean: {:.3f}\".format(X_train.mean()))\n",
    "print(\"std: {:.3f}\".format(X_train.std()))\n",
    "print(\"min: {:.3f}\".format(X_train.min()))\n",
    "print(\"max: {:.3f}\".format(X_train.max()))\n",
    "\n",
    "transformer = MyTransformer()\n",
    "transformer.fit(X_train, y_train)\n",
    "X_train_transformed = transformer.transform(X_train)\n",
    "\n",
    "print('변환된 학습 데이터 >>>')\n",
    "print(\"mean: {:.3f}\".format(X_train_transformed.mean()))\n",
    "print(\"std: {:.3f}\".format(X_train_transformed.std()))\n",
    "print(\"min: {:.3f}\".format(X_train_transformed.min()))\n",
    "print(\"max: {:.3f}\".format(X_train_transformed.max()))"
   ]
  },
  {
   "cell_type": "code",
   "execution_count": null,
   "metadata": {},
   "outputs": [],
   "source": []
  }
 ],
 "metadata": {
  "kernelspec": {
   "display_name": "Python 3",
   "language": "python",
   "name": "python3"
  },
  "language_info": {
   "codemirror_mode": {
    "name": "ipython",
    "version": 3
   },
   "file_extension": ".py",
   "mimetype": "text/x-python",
   "name": "python",
   "nbconvert_exporter": "python",
   "pygments_lexer": "ipython3",
   "version": "3.7.0"
  }
 },
 "nbformat": 4,
 "nbformat_minor": 2
}
