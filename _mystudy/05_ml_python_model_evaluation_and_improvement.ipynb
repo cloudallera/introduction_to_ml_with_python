{
 "cells": [
  {
   "cell_type": "markdown",
   "metadata": {},
   "source": [
    "# 5. 모델 평가와 성능 향상"
   ]
  },
  {
   "cell_type": "code",
   "execution_count": 1,
   "metadata": {},
   "outputs": [],
   "source": [
    "import matplotlib as mpl\n",
    "import matplotlib.pyplot as plt\n",
    "import numpy as np\n",
    "import pandas as pd\n",
    "import mglearn\n",
    "import sklearn\n",
    "import scipy\n",
    "import os\n",
    "%matplotlib inline"
   ]
  },
  {
   "cell_type": "code",
   "execution_count": 2,
   "metadata": {},
   "outputs": [
    {
     "name": "stdout",
     "output_type": "stream",
     "text": [
      "테스트 세트 점수\" 0.920\n"
     ]
    }
   ],
   "source": [
    "from sklearn.datasets import make_blobs\n",
    "from sklearn.linear_model import LogisticRegression\n",
    "from sklearn.model_selection import train_test_split\n",
    "\n",
    "X, y = make_blobs(random_state=0)\n",
    "X_train, X_test, y_train, y_test = train_test_split(X, y, random_state=0)\n",
    "\n",
    "logreg = LogisticRegression(solver='lbfgs', multi_class='ovr').fit(X_train, y_train)\n",
    "print('테스트 세트 점수\" {:.3f}'.format(logreg.score(X_test, y_test)))"
   ]
  },
  {
   "cell_type": "code",
   "execution_count": 3,
   "metadata": {},
   "outputs": [],
   "source": [
    "# mglearn.plot_cross_validation.py\n",
    "\n",
    "def plot_group_kfold():\n",
    "    from sklearn.model_selection import GroupKFold\n",
    "    groups = [0, 0, 0, 1, 1, 1, 1, 2, 2, 3, 3, 3]\n",
    "\n",
    "    plt.figure(figsize=(10, 2))\n",
    "    plt.title(\"GroupKFold\")\n",
    "\n",
    "    axes = plt.gca()\n",
    "    axes.set_frame_on(False)\n",
    "    axes.margins(0.01)\n",
    "\n",
    "    n_folds = 12\n",
    "    n_samples = 12\n",
    "    n_iter = 3\n",
    "    n_samples_per_fold = 1\n",
    "\n",
    "    cv = GroupKFold(n_splits=3)\n",
    "    mask = np.zeros((n_iter, n_samples))\n",
    "    for i, (train, test) in enumerate(cv.split(range(12), groups=groups)):\n",
    "        mask[i, train] = 1\n",
    "        mask[i, test] = 2\n",
    "\n",
    "    for i in range(n_folds):\n",
    "        # test is grey\n",
    "        colors = [\"grey\" if x == 2 else \"white\" for x in mask[:, i]]\n",
    "        # not selected has no hatch\n",
    "\n",
    "        boxes = axes.barh(y=range(n_iter), width=[1 - 0.1] * n_iter,\n",
    "                          left=i * n_samples_per_fold, height=.6, color=colors,\n",
    "                          hatch=\"//\", edgecolor=[\"k\"]*n_iter, align='edge')\n",
    "        for j in np.where(mask[:, i] == 0)[0]:\n",
    "            boxes[j].set_hatch(\"\")\n",
    "\n",
    "    axes.barh(y=[n_iter] * n_folds, width=[1 - 0.1] * n_folds,\n",
    "              left=np.arange(n_folds) * n_samples_per_fold, height=.6,\n",
    "              color=\"w\", edgecolor=['k']*n_folds, align='edge')\n",
    "\n",
    "    for i in range(12):\n",
    "        axes.text((i + .5) * n_samples_per_fold, 3.4, \"%d\" %\n",
    "                  groups[i], horizontalalignment=\"center\")\n",
    "    axes.invert_yaxis()\n",
    "    axes.set_xlim(0, n_samples + 1)\n",
    "    axes.set_ylabel(\"교차 검증 반복\")\n",
    "    axes.set_xlabel(\"데이터 포인트\")\n",
    "    axes.set_xticks(np.arange(n_samples) + .5)\n",
    "    axes.set_xticklabels(np.arange(1, n_samples + 1))\n",
    "    axes.set_yticks(np.arange(n_iter + 1) + .3)\n",
    "    axes.set_yticklabels([\"분할 %d\" % x for x in range(1, n_iter + 1)] + [\"그룹\"]);\n",
    "    plt.legend([boxes[0], boxes[1]], [\"훈련 세트\", \"테스트 세트\"], loc=(1, .3));\n",
    "    plt.tight_layout()\n",
    "\n",
    "\n",
    "def plot_shuffle_split():\n",
    "    from sklearn.model_selection import ShuffleSplit\n",
    "    plt.figure(figsize=(10, 2))\n",
    "    plt.title(\"ShuffleSplit with 10 points\"\n",
    "              \", train_size=5, test_size=2, n_splits=5\")\n",
    "\n",
    "    axes = plt.gca()\n",
    "    axes.set_frame_on(False)\n",
    "    axes.margins(0.01)\n",
    "\n",
    "    n_folds = 10\n",
    "    n_samples = 10\n",
    "    n_iter = 5\n",
    "    n_samples_per_fold = 1\n",
    "\n",
    "    ss = ShuffleSplit(n_splits=5, train_size=5, test_size=2, random_state=43)\n",
    "    mask = np.zeros((n_iter, n_samples))\n",
    "    for i, (train, test) in enumerate(ss.split(range(10))):\n",
    "        mask[i, train] = 1\n",
    "        mask[i, test] = 2\n",
    "\n",
    "    for i in range(n_folds):\n",
    "        # test is grey\n",
    "        colors = [\"grey\" if x == 2 else \"white\" for x in mask[:, i]]\n",
    "        # not selected has no hatch\n",
    "\n",
    "        boxes = axes.barh(y=range(n_iter), width=[1 - 0.1] * n_iter,\n",
    "                          left=i * n_samples_per_fold, height=.6, color=colors,\n",
    "                          hatch=\"//\", edgecolor=['k']*n_iter, align='edge')\n",
    "        for j in np.where(mask[:, i] == 0)[0]:\n",
    "            boxes[j].set_hatch(\"\")\n",
    "\n",
    "    axes.invert_yaxis()\n",
    "    axes.set_xlim(0, n_samples + 1)\n",
    "    axes.set_ylabel(\"교차 검증 반복\")\n",
    "    axes.set_xlabel(\"데이터 포인트\")\n",
    "    axes.set_xticks(np.arange(n_samples) + .5)\n",
    "    axes.set_xticklabels(np.arange(1, n_samples + 1))\n",
    "    axes.set_yticks(np.arange(n_iter) + .3)\n",
    "    axes.set_yticklabels([\"분할 %d\" % x for x in range(1, n_iter + 1)]);\n",
    "    # legend hacked for this random state\n",
    "    plt.legend([boxes[1], boxes[0], boxes[2]], [\"훈련 세트\", \"테스트 세트\", \"미선택 세트\"], loc=(1, .3));\n",
    "    plt.tight_layout()\n",
    "    # plt.savefig(\"images/06_shuffle_split.png\")\n",
    "    # plt.close()\n",
    "\n",
    "\n",
    "def plot_stratified_cross_validation():\n",
    "    fig, both_axes = plt.subplots(2, 1, figsize=(12, 5))\n",
    "    # plt.title(\"cross_validation_not_stratified\")\n",
    "    axes = both_axes[0]\n",
    "    axes.set_title(\"순서대로 나열된 레이블에 적용한 기본 교차 검증\")\n",
    "\n",
    "    axes.set_frame_on(False)\n",
    "    axes.margins(0.01)\n",
    "\n",
    "    n_folds = 3\n",
    "    n_samples = 150\n",
    "\n",
    "    n_samples_per_fold = n_samples / float(n_folds)\n",
    "\n",
    "    for i in range(n_folds):\n",
    "        colors = [\"w\"] * n_folds\n",
    "        colors[i] = \"grey\"\n",
    "        axes.barh(y=range(n_folds), width=[n_samples_per_fold - 1] *\n",
    "                  n_folds, left=i * n_samples_per_fold, height=.6,\n",
    "                  color=colors, hatch=\"//\", edgecolor=['k']*n_folds, align='edge')\n",
    "\n",
    "    axes.barh(y=[n_folds] * n_folds, width=[n_samples_per_fold - 1] *\n",
    "              n_folds, left=np.arange(3) * n_samples_per_fold, height=.6,\n",
    "              color=\"w\", edgecolor=['k']*n_folds, align='edge')\n",
    "\n",
    "    axes.invert_yaxis()\n",
    "    axes.set_xlim(0, n_samples + 1)\n",
    "    axes.set_ylabel(\"교차 검증 반복\")\n",
    "    axes.set_xlabel(\"데이터 포인트\")\n",
    "    axes.set_xticks(np.arange(n_samples_per_fold / 2., n_samples, n_samples_per_fold))\n",
    "    axes.set_xticklabels([\"폴드 %d\" % x for x in range(1, n_folds + 1)])\n",
    "    axes.set_yticks(np.arange(n_folds + 1) + .3)\n",
    "    axes.set_yticklabels([\"분할 %d\" % x for x in range(1, n_folds + 1)] + [\"클래스 레이블\"])\n",
    "    for i in range(3):\n",
    "        axes.text((i + .5) * n_samples_per_fold, 3.4, \"클래스 %d\" % i, horizontalalignment=\"center\")\n",
    "\n",
    "    ax = both_axes[1]\n",
    "    ax.set_title(\"계층별 교차 검증\")\n",
    "    ax.set_frame_on(False)\n",
    "    ax.invert_yaxis()\n",
    "    ax.set_xlim(0, n_samples + 1)\n",
    "    ax.set_ylabel(\"교차 검증 반복\")\n",
    "    ax.set_xlabel(\"데이터 포인트\")\n",
    "\n",
    "    ax.set_yticks(np.arange(n_folds + 1) + .3)\n",
    "    ax.set_yticklabels([\"분할 %d\" % x for x in range(1, n_folds + 1)] + [\"클래스 레이블\"]);\n",
    "\n",
    "    n_subsplit = n_samples_per_fold / 3.\n",
    "    for i in range(n_folds):\n",
    "        test_bars = ax.barh(\n",
    "            y=[i] * n_folds, width=[n_subsplit - 1] * n_folds,\n",
    "            left=np.arange(n_folds) * n_samples_per_fold + i * n_subsplit,\n",
    "            height=.6, color=\"grey\", hatch=\"//\", edgecolor=['k']*n_folds, align='edge')\n",
    "\n",
    "    w = 2 * n_subsplit - 1\n",
    "    ax.barh(y=[0] * n_folds, width=[w] * n_folds, left=np.arange(n_folds)\n",
    "            * n_samples_per_fold + (0 + 1) * n_subsplit, height=.6, color=\"w\",\n",
    "            hatch=\"//\", edgecolor=['k']*n_folds, align='edge')\n",
    "    ax.barh(y=[1] * (n_folds + 1), width=[w / 2., w, w, w / 2.],\n",
    "            left=np.maximum(0, np.arange(n_folds + 1) * n_samples_per_fold -\n",
    "                            n_subsplit), height=.6, color=\"w\", hatch=\"//\",\n",
    "            edgecolor=['k']*n_folds, align='edge')\n",
    "    training_bars = ax.barh(y=[2] * n_folds, width=[w] * n_folds,\n",
    "                            left=np.arange(n_folds) * n_samples_per_fold,\n",
    "                            height=.6, color=\"w\", hatch=\"//\", edgecolor=['k']*n_folds, align='edge')\n",
    "\n",
    "    ax.barh(y=[n_folds] * n_folds, width=[n_samples_per_fold - 1] *\n",
    "            n_folds, left=np.arange(n_folds) * n_samples_per_fold, height=.6,\n",
    "            color=\"w\", edgecolor=['k']*n_folds, align='edge')\n",
    "\n",
    "    for i in range(3):\n",
    "        ax.text((i + .5) * n_samples_per_fold, 3.4, \"클래스 %d\" % i, horizontalalignment=\"center\")\n",
    "    # ax.set_ylim(4, -0.1)\n",
    "    ax.margins(0.01)\n",
    "    plt.legend([training_bars[0], test_bars[0]], ['훈련 데이터', '테스트 데이터'], loc=(1.05, 1), frameon=False);\n",
    "\n",
    "    fig.tight_layout()\n",
    "\n",
    "\n",
    "def plot_cross_validation():\n",
    "    plt.figure(figsize=(12, 2))\n",
    "    plt.margins(0.01)\n",
    "    axes = plt.gca()\n",
    "    axes.set_frame_on(False)\n",
    "\n",
    "    n_folds = 5\n",
    "    n_samples = 25\n",
    "\n",
    "    n_samples_per_fold = n_samples / float(n_folds)\n",
    "\n",
    "    for i in range(n_folds):\n",
    "        colors = [\"w\"] * n_folds\n",
    "        colors[i] = \"grey\"\n",
    "        bars = plt.barh(\n",
    "            y=range(n_folds), width=[n_samples_per_fold - 0.1] * n_folds,\n",
    "            left=i * n_samples_per_fold, height=.6, color=colors, hatch=\"//\",\n",
    "            edgecolor=['k']*n_folds, align='edge')\n",
    "    axes.invert_yaxis()\n",
    "    axes.set_xlim(0, n_samples + 1)\n",
    "    plt.ylabel(\"교차 검증 반복\")\n",
    "    plt.xlabel(\"데이터 포인트\")\n",
    "    plt.xticks(np.arange(n_samples_per_fold / 2., n_samples, n_samples_per_fold), [\"폴드 %d\" % x for x in range(1, n_folds + 1)])\n",
    "    plt.yticks(np.arange(n_folds) + .3, [\"분할 %d\" % x for x in range(1, n_folds + 1)])\n",
    "    plt.legend([bars[0], bars[4]], ['훈련 데이터', '테스트 데이터'], loc=(1.05, 0.4), frameon=False);\n",
    "\n",
    "\n",
    "def plot_threefold_split():\n",
    "    plt.figure(figsize=(15, 1))\n",
    "    axis = plt.gca()\n",
    "    axis.margins(0.01)\n",
    "    bars = axis.barh([0, 0, 0], [11.9, 2.9, 4.9], left=[0, 12, 15], color=[\n",
    "                     'white', 'grey', 'grey'], hatch=\"//\", edgecolor='k', align='edge')\n",
    "    bars[2].set_hatch(r\"\")\n",
    "    axis.set_yticks(())\n",
    "    axis.set_frame_on(False)\n",
    "    # axis.set_ylim(-.1, .8)\n",
    "    # axis.set_xlim(-0.1, 20.1)\n",
    "    axis.set_xticks([6, 13.3, 17.5])\n",
    "    axis.set_xticklabels([\"훈련 세트\", \"검증 세트\", \"테스트 세트\"], fontdict={'fontsize': 20});\n",
    "    axis.tick_params(length=0, labeltop=True, labelbottom=False)\n",
    "    axis.text(6, -.3, \"모델 훈련\", fontdict={'fontsize': 13}, horizontalalignment=\"center\")\n",
    "    axis.text(13.3, -.3, \"매개변수 선택\", fontdict={'fontsize': 13}, horizontalalignment=\"center\")\n",
    "    axis.text(17.5, -.3, \"모델 평가\", fontdict={'fontsize': 13}, horizontalalignment=\"center\")"
   ]
  },
  {
   "cell_type": "code",
   "execution_count": 4,
   "metadata": {},
   "outputs": [
    {
     "data": {
      "image/png": "[encoded data removed]",
      "text/plain": [
       "<Figure size 864x144 with 1 Axes>"
      ]
     },
     "metadata": {
      "needs_background": "light"
     },
     "output_type": "display_data"
    }
   ],
   "source": [
    "# mglearn.plots.plot_cross_validation()     # plt.barh() y 매개변수 오류\n",
    "\n",
    "plot_cross_validation()"
   ]
  },
  {
   "cell_type": "code",
   "execution_count": 5,
   "metadata": {},
   "outputs": [
    {
     "name": "stdout",
     "output_type": "stream",
     "text": [
      "교차 검증 점수: [0.96666667 1.         0.93333333 0.96666667 1.        ]\n",
      "교차 검증 평균: 0.973\n"
     ]
    }
   ],
   "source": [
    "from sklearn.model_selection import cross_val_score\n",
    "from sklearn.datasets import load_iris\n",
    "from sklearn.linear_model import LogisticRegression\n",
    "\n",
    "iris = load_iris()\n",
    "logreg = LogisticRegression(solver='lbfgs', multi_class='auto', max_iter=10000)\n",
    "\n",
    "scores = cross_val_score(logreg, iris.data, iris.target, cv=5)\n",
    "print('교차 검증 점수: {}'.format(scores))\n",
    "print('교차 검증 평균: {:.3f}'.format(scores.mean()))"
   ]
  },
  {
   "cell_type": "code",
   "execution_count": 6,
   "metadata": {},
   "outputs": [
    {
     "name": "stdout",
     "output_type": "stream",
     "text": [
      "IRIS 레이블: [0 0 0 0 0 0 0 0 0 0 0 0 0 0 0 0 0 0 0 0 0 0 0 0 0 0 0 0 0 0 0 0 0 0 0 0 0\n",
      " 0 0 0 0 0 0 0 0 0 0 0 0 0 1 1 1 1 1 1 1 1 1 1 1 1 1 1 1 1 1 1 1 1 1 1 1 1\n",
      " 1 1 1 1 1 1 1 1 1 1 1 1 1 1 1 1 1 1 1 1 1 1 1 1 1 1 2 2 2 2 2 2 2 2 2 2 2\n",
      " 2 2 2 2 2 2 2 2 2 2 2 2 2 2 2 2 2 2 2 2 2 2 2 2 2 2 2 2 2 2 2 2 2 2 2 2 2\n",
      " 2 2]\n"
     ]
    }
   ],
   "source": [
    "from sklearn.datasets import load_iris\n",
    "iris = load_iris()\n",
    "print('IRIS 레이블: {}'.format(iris.target))"
   ]
  },
  {
   "cell_type": "code",
   "execution_count": 7,
   "metadata": {},
   "outputs": [
    {
     "data": {
      "image/png": "[encoded data removed]",
      "text/plain": [
       "<Figure size 864x360 with 2 Axes>"
      ]
     },
     "metadata": {
      "needs_background": "light"
     },
     "output_type": "display_data"
    }
   ],
   "source": [
    "# mglearn.plots.plot_stratified_cross_validation()       # plt.barh() y 매개변수 오류\n",
    "\n",
    "\n",
    "plot_stratified_cross_validation()"
   ]
  },
  {
   "cell_type": "code",
   "execution_count": 8,
   "metadata": {},
   "outputs": [
    {
     "name": "stdout",
     "output_type": "stream",
     "text": [
      "교차 검증 점수: [1.         1.         0.86666667 0.93333333 0.83333333]\n",
      "교차 검증 평균: 0.927\n"
     ]
    }
   ],
   "source": [
    "from sklearn.model_selection import KFold\n",
    "kfold = KFold(n_splits=5)\n",
    "\n",
    "print('교차 검증 점수: {}'.format(cross_val_score(logreg, iris.data, iris.target, cv=kfold)))\n",
    "print('교차 검증 평균: {:.3f}'.format(cross_val_score(logreg, iris.data, iris.target, cv=kfold).mean()))"
   ]
  },
  {
   "cell_type": "code",
   "execution_count": 9,
   "metadata": {},
   "outputs": [
    {
     "name": "stdout",
     "output_type": "stream",
     "text": [
      "교차 검증 점수: [0. 0. 0.]\n"
     ]
    }
   ],
   "source": [
    "kfold = KFold(n_splits=3)\n",
    "print('교차 검증 점수: {}'.format(cross_val_score(logreg, iris.data, iris.target, cv=kfold)))"
   ]
  },
  {
   "cell_type": "code",
   "execution_count": 10,
   "metadata": {},
   "outputs": [
    {
     "name": "stdout",
     "output_type": "stream",
     "text": [
      "교차 검증 점수: [0.98 0.96 0.96]\n"
     ]
    }
   ],
   "source": [
    "kfold = KFold(n_splits=3, shuffle=True, random_state=0)\n",
    "print('교차 검증 점수: {}'.format(cross_val_score(logreg, iris.data, iris.target, cv=kfold)))"
   ]
  },
  {
   "cell_type": "code",
   "execution_count": 11,
   "metadata": {},
   "outputs": [
    {
     "name": "stdout",
     "output_type": "stream",
     "text": [
      "교차 검증 분할 회수:  150\n",
      "교차 검증 평균 정확도: 0.967\n"
     ]
    }
   ],
   "source": [
    "from sklearn.model_selection import LeaveOneOut\n",
    "loo = LeaveOneOut()\n",
    "scores = cross_val_score(logreg, iris.data, iris.target, cv=loo)\n",
    "\n",
    "print('교차 검증 분할 회수: ', len(scores))\n",
    "print('교차 검증 평균 정확도: {:.3f}'.format(scores.mean()))"
   ]
  },
  {
   "cell_type": "code",
   "execution_count": 12,
   "metadata": {},
   "outputs": [
    {
     "data": {
      "image/png": "[encoded data removed]",
      "text/plain": [
       "<Figure size 720x144 with 1 Axes>"
      ]
     },
     "metadata": {
      "needs_background": "light"
     },
     "output_type": "display_data"
    }
   ],
   "source": [
    "# mglearn.plots.plot_shuffle_split()       # plt.barh() y 매개변수 오류\n",
    "\n",
    "plot_shuffle_split()"
   ]
  },
  {
   "cell_type": "code",
   "execution_count": 13,
   "metadata": {},
   "outputs": [
    {
     "name": "stdout",
     "output_type": "stream",
     "text": [
      "교차 검증 점수: [0.98666667 1.         0.98666667 0.94666667 0.96       0.92\n",
      " 0.93333333 0.98666667 0.98666667 0.96      ]\n"
     ]
    }
   ],
   "source": [
    "from sklearn.model_selection import ShuffleSplit\n",
    "shuffle_split = ShuffleSplit(test_size=.5, train_size=.5, n_splits=10)\n",
    "scores = cross_val_score(logreg, iris.data, iris.target, cv=shuffle_split)\n",
    "print('교차 검증 점수: {}'.format(scores))"
   ]
  },
  {
   "cell_type": "code",
   "execution_count": 14,
   "metadata": {},
   "outputs": [
    {
     "name": "stdout",
     "output_type": "stream",
     "text": [
      "교차 검증 점수: [0.75       0.6        0.66666667]\n"
     ]
    }
   ],
   "source": [
    "from sklearn.model_selection import GroupKFold\n",
    "X, y = make_blobs(n_samples=12, random_state=0)\n",
    "groups = [0, 0, 0, 1, 1, 1, 1, 2, 2, 3, 3, 3]\n",
    "scores = cross_val_score(logreg, X, y, groups, cv=GroupKFold(n_splits=3))\n",
    "print('교차 검증 점수: {}'.format(scores))"
   ]
  },
  {
   "cell_type": "code",
   "execution_count": 15,
   "metadata": {},
   "outputs": [
    {
     "data": {
      "image/png": "[encoded data removed]",
      "text/plain": [
       "<Figure size 720x144 with 1 Axes>"
      ]
     },
     "metadata": {
      "needs_background": "light"
     },
     "output_type": "display_data"
    }
   ],
   "source": [
    "# mglearn.plots.plot_group_kfold()       # plt.barh() y 매개변수 오류\n",
    "plot_group_kfold()"
   ]
  },
  {
   "cell_type": "code",
   "execution_count": 16,
   "metadata": {},
   "outputs": [
    {
     "name": "stdout",
     "output_type": "stream",
     "text": [
      "훈련 세트의 크기: 112,  테스트 세트의 크기: 38\n",
      "최고 점수: 0.974\n",
      "최적 매개변수: {'gamma': 0.001, 'C': 100}\n"
     ]
    }
   ],
   "source": [
    "from sklearn.svm import SVC\n",
    "X_train, X_test, y_train, y_test = train_test_split(iris.data, iris.target, random_state=0)\n",
    "print('훈련 세트의 크기: {},  테스트 세트의 크기: {}'.format(X_train.shape[0], X_test.shape[0]))\n",
    "\n",
    "best_score = 0\n",
    "best_parameters = {}\n",
    "\n",
    "for gamma in [0.001, 0.01, 0.1, 1, 10, 100]:\n",
    "    for C in [0.001, 0.01, 0.1, 1, 10, 100]:\n",
    "        svm = SVC(gamma=gamma, C=C)\n",
    "        svm.fit(X_train, y_train)\n",
    "        score = svm.score(X_test, y_test)\n",
    "        if score > best_score:\n",
    "            best_score = score\n",
    "            best_parameters = {'gamma': gamma, 'C': C}\n",
    "        \n",
    "print('최고 점수: {:.3f}'.format(best_score))\n",
    "print('최적 매개변수: {}'.format(best_parameters))"
   ]
  },
  {
   "cell_type": "code",
   "execution_count": 17,
   "metadata": {},
   "outputs": [
    {
     "data": {
      "image/png": "[encoded data removed]",
      "text/plain": [
       "<Figure size 1080x72 with 1 Axes>"
      ]
     },
     "metadata": {
      "needs_background": "light"
     },
     "output_type": "display_data"
    }
   ],
   "source": [
    "mglearn.plots.plot_threefold_split()"
   ]
  },
  {
   "cell_type": "code",
   "execution_count": 18,
   "metadata": {},
   "outputs": [
    {
     "name": "stdout",
     "output_type": "stream",
     "text": [
      "훈련 세트의 크기: 84,  검증 세트의 크기: 28,  테스트 세트의 크기: 38\n",
      "검증 세트에서의 최고 점수: 0.96\n",
      "최적 매개변수: {'gamma': 0.001, 'C': 10}\n",
      "최적 매개변수의 테스트 세트 점수: 0.92\n"
     ]
    }
   ],
   "source": [
    "from sklearn.svm import SVC\n",
    "X_trainval, X_test, y_trainval, y_test = train_test_split(iris.data, iris.target, random_state=0)\n",
    "X_train, X_valid, y_train, y_valid = train_test_split(X_trainval, y_trainval, random_state=1)\n",
    "print('훈련 세트의 크기: {},  검증 세트의 크기: {},  테스트 세트의 크기: {}'.format(X_train.shape[0], X_valid.shape[0], X_test.shape[0]))\n",
    "\n",
    "best_score = 0\n",
    "\n",
    "for gamma in [0.001, 0.01, 0.1, 1, 10, 100]:\n",
    "    for C in [0.001, 0.01, 0.1, 1, 10, 100]:\n",
    "        svm = SVC(gamma=gamma, C=C)\n",
    "        svm.fit(X_train, y_train)\n",
    "        score = svm.score(X_valid, y_valid)\n",
    "        if score > best_score:\n",
    "            best_score = score\n",
    "            best_parameters = {'gamma': gamma, 'C': C}\n",
    "            \n",
    "svm = SVC(**best_parameters)\n",
    "svm.fit(X_trainval, y_trainval)\n",
    "test_score = svm.score(X_test, y_test)\n",
    "print('검증 세트에서의 최고 점수: {:.2f}'.format(best_score))\n",
    "print('최적 매개변수: {}'.format(best_parameters))\n",
    "print('최적 매개변수의 테스트 세트 점수: {:.2f}'.format(test_score))"
   ]
  },
  {
   "cell_type": "code",
   "execution_count": 19,
   "metadata": {},
   "outputs": [
    {
     "name": "stdout",
     "output_type": "stream",
     "text": [
      "검증 세트에서의 최고 점수: 0.97\n",
      "최적 매개변수: {'gamma': 0.01, 'C': 100}\n",
      "최적 매개변수의 테스트 세트 점수: 0.97\n"
     ]
    }
   ],
   "source": [
    "best_score = 0\n",
    "\n",
    "for gamma in [0.001, 0.01, 0.1, 1, 10, 100]:\n",
    "    for C in [0.001, 0.01, 0.1, 1, 10, 100]:\n",
    "        svm = SVC(gamma=gamma, C=C)\n",
    "        scores = cross_val_score(svm, X_trainval, y_trainval, cv=5)\n",
    "        score = np.mean(scores)\n",
    "        if score > best_score:\n",
    "            best_score = score\n",
    "            best_parameters = {'gamma': gamma, 'C': C}\n",
    "            \n",
    "svm = SVC(**best_parameters)\n",
    "svm.fit(X_trainval, y_trainval)\n",
    "test_score = svm.score(X_test, y_test)\n",
    "print('검증 세트에서의 최고 점수: {:.2f}'.format(best_score))\n",
    "print('최적 매개변수: {}'.format(best_parameters))\n",
    "print('최적 매개변수의 테스트 세트 점수: {:.2f}'.format(test_score))"
   ]
  },
  {
   "cell_type": "code",
   "execution_count": 20,
   "metadata": {},
   "outputs": [],
   "source": [
    "# mglearn.plot_grid_search.py 중 일부\n",
    "\n",
    "from sklearn.model_selection import GridSearchCV\n",
    "\n",
    "def plot_cross_val_selection():\n",
    "    iris = load_iris()\n",
    "    X_trainval, X_test, y_trainval, y_test = train_test_split(iris.data,\n",
    "                                                              iris.target,\n",
    "                                                              random_state=0)\n",
    "\n",
    "    param_grid = {'C': [0.001, 0.01, 0.1, 1, 10, 100],\n",
    "                  'gamma': [0.001, 0.01, 0.1, 1, 10, 100]}\n",
    "    grid_search = GridSearchCV(SVC(), param_grid, cv=5, return_train_score=True, iid=True)\n",
    "    grid_search.fit(X_trainval, y_trainval)\n",
    "    results = pd.DataFrame(grid_search.cv_results_)[15:]\n",
    "\n",
    "    best = np.argmax(results.mean_test_score.values)\n",
    "    plt.figure(figsize=(10, 5))\n",
    "    plt.xlim(-1, len(results))\n",
    "    plt.ylim(0, 1.1)\n",
    "    for i, (_, row) in enumerate(results.iterrows()):\n",
    "        scores = row[['split%d_test_score' % i for i in range(5)]]\n",
    "        marker_cv, = plt.plot([i] * 5, scores, '^', c='blue', markersize=5,\n",
    "                              alpha=.5)\n",
    "        marker_mean, = plt.plot(i, row.mean_test_score, 'v', c='none', alpha=1,\n",
    "                              markersize=10, markeredgecolor='k')\n",
    "        if i == best:\n",
    "            marker_best, = plt.plot(i, row.mean_test_score, 'o', c='red',\n",
    "                                    fillstyle=\"none\", alpha=1, markersize=20,\n",
    "                                    markeredgewidth=3)\n",
    "\n",
    "    plt.xticks(range(len(results)), [str(x).strip(\"{}\").replace(\"'\", \"\") for x\n",
    "                                     in grid_search.cv_results_['params']],\n",
    "               rotation=90)\n",
    "    plt.ylabel(\"정확도\")\n",
    "    plt.xlabel(\"매개변수 세팅\")\n",
    "    plt.legend([marker_cv, marker_mean, marker_best],\n",
    "               [\"교차 검증 정확도\", \"평균 정확도\", \"최적 매개변수 설정\"],\n",
    "               loc=(1.05, .4))\n",
    "    \n",
    "    return param_grid, grid_search"
   ]
  },
  {
   "cell_type": "code",
   "execution_count": 21,
   "metadata": {},
   "outputs": [
    {
     "data": {
      "image/png": "[encoded data removed]",
      "text/plain": [
       "<Figure size 720x360 with 1 Axes>"
      ]
     },
     "metadata": {
      "needs_background": "light"
     },
     "output_type": "display_data"
    }
   ],
   "source": [
    "param_grid, grid_search = plot_cross_val_selection()"
   ]
  },
  {
   "cell_type": "code",
   "execution_count": 22,
   "metadata": {},
   "outputs": [
    {
     "data": {
      "image/png": "[encoded data removed]",
      "text/plain": [
       "<Figure size 700x210 with 1 Axes>"
      ]
     },
     "metadata": {
      "needs_background": "light"
     },
     "output_type": "display_data"
    }
   ],
   "source": [
    "mglearn.plots.plot_grid_search_overview()"
   ]
  },
  {
   "cell_type": "code",
   "execution_count": 23,
   "metadata": {},
   "outputs": [
    {
     "name": "stdout",
     "output_type": "stream",
     "text": [
      "최적 매개변수: {'C': 100, 'gamma': 0.01}\n",
      "최상의 교차검증 정확도: 0.97\n",
      "교차검증을 사용한 그리드 서치 테스트 점수: 0.97\n",
      "최공 성능 모델:\n",
      "SVC(C=100, cache_size=200, class_weight=None, coef0=0.0,\n",
      "  decision_function_shape='ovr', degree=3, gamma=0.01, kernel='rbf',\n",
      "  max_iter=-1, probability=False, random_state=None, shrinking=True,\n",
      "  tol=0.001, verbose=False)\n"
     ]
    }
   ],
   "source": [
    "print('최적 매개변수: {}'.format(grid_search.best_params_))\n",
    "print('최상의 교차검증 정확도: {:.2f}'.format(grid_search.best_score_))\n",
    "print('교차검증을 사용한 그리드 서치 테스트 점수: {:.2f}'.format(grid_search.score(X_test, y_test)))\n",
    "\n",
    "print('최공 성능 모델:\\n{}'.format(grid_search.best_estimator_))"
   ]
  },
  {
   "cell_type": "code",
   "execution_count": 24,
   "metadata": {},
   "outputs": [
    {
     "data": {
      "text/html": [
       "<div>\n",
       "<style scoped>\n",
       "    .dataframe tbody tr th:only-of-type {\n",
       "        vertical-align: middle;\n",
       "    }\n",
       "\n",
       "    .dataframe tbody tr th {\n",
       "        vertical-align: top;\n",
       "    }\n",
       "\n",
       "    .dataframe thead th {\n",
       "        text-align: right;\n",
       "    }\n",
       "</style>\n",
       "<table border=\"1\" class=\"dataframe\">\n",
       "  <thead>\n",
       "    <tr style=\"text-align: right;\">\n",
       "      <th></th>\n",
       "      <th>mean_fit_time</th>\n",
       "      <th>std_fit_time</th>\n",
       "      <th>mean_score_time</th>\n",
       "      <th>std_score_time</th>\n",
       "      <th>param_C</th>\n",
       "      <th>param_gamma</th>\n",
       "      <th>params</th>\n",
       "      <th>split0_test_score</th>\n",
       "      <th>split1_test_score</th>\n",
       "      <th>split2_test_score</th>\n",
       "      <th>...</th>\n",
       "      <th>mean_test_score</th>\n",
       "      <th>std_test_score</th>\n",
       "      <th>rank_test_score</th>\n",
       "      <th>split0_train_score</th>\n",
       "      <th>split1_train_score</th>\n",
       "      <th>split2_train_score</th>\n",
       "      <th>split3_train_score</th>\n",
       "      <th>split4_train_score</th>\n",
       "      <th>mean_train_score</th>\n",
       "      <th>std_train_score</th>\n",
       "    </tr>\n",
       "  </thead>\n",
       "  <tbody>\n",
       "    <tr>\n",
       "      <th>0</th>\n",
       "      <td>0.000500</td>\n",
       "      <td>0.000053</td>\n",
       "      <td>0.000220</td>\n",
       "      <td>0.000011</td>\n",
       "      <td>0.001</td>\n",
       "      <td>0.001</td>\n",
       "      <td>{'C': 0.001, 'gamma': 0.001}</td>\n",
       "      <td>0.375</td>\n",
       "      <td>0.347826</td>\n",
       "      <td>0.363636</td>\n",
       "      <td>...</td>\n",
       "      <td>0.366071</td>\n",
       "      <td>0.011371</td>\n",
       "      <td>22</td>\n",
       "      <td>0.363636</td>\n",
       "      <td>0.370787</td>\n",
       "      <td>0.366667</td>\n",
       "      <td>0.366667</td>\n",
       "      <td>0.362637</td>\n",
       "      <td>0.366079</td>\n",
       "      <td>0.002852</td>\n",
       "    </tr>\n",
       "    <tr>\n",
       "      <th>1</th>\n",
       "      <td>0.000484</td>\n",
       "      <td>0.000032</td>\n",
       "      <td>0.000218</td>\n",
       "      <td>0.000007</td>\n",
       "      <td>0.001</td>\n",
       "      <td>0.01</td>\n",
       "      <td>{'C': 0.001, 'gamma': 0.01}</td>\n",
       "      <td>0.375</td>\n",
       "      <td>0.347826</td>\n",
       "      <td>0.363636</td>\n",
       "      <td>...</td>\n",
       "      <td>0.366071</td>\n",
       "      <td>0.011371</td>\n",
       "      <td>22</td>\n",
       "      <td>0.363636</td>\n",
       "      <td>0.370787</td>\n",
       "      <td>0.366667</td>\n",
       "      <td>0.366667</td>\n",
       "      <td>0.362637</td>\n",
       "      <td>0.366079</td>\n",
       "      <td>0.002852</td>\n",
       "    </tr>\n",
       "    <tr>\n",
       "      <th>2</th>\n",
       "      <td>0.000493</td>\n",
       "      <td>0.000015</td>\n",
       "      <td>0.000224</td>\n",
       "      <td>0.000008</td>\n",
       "      <td>0.001</td>\n",
       "      <td>0.1</td>\n",
       "      <td>{'C': 0.001, 'gamma': 0.1}</td>\n",
       "      <td>0.375</td>\n",
       "      <td>0.347826</td>\n",
       "      <td>0.363636</td>\n",
       "      <td>...</td>\n",
       "      <td>0.366071</td>\n",
       "      <td>0.011371</td>\n",
       "      <td>22</td>\n",
       "      <td>0.363636</td>\n",
       "      <td>0.370787</td>\n",
       "      <td>0.366667</td>\n",
       "      <td>0.366667</td>\n",
       "      <td>0.362637</td>\n",
       "      <td>0.366079</td>\n",
       "      <td>0.002852</td>\n",
       "    </tr>\n",
       "    <tr>\n",
       "      <th>3</th>\n",
       "      <td>0.000578</td>\n",
       "      <td>0.000024</td>\n",
       "      <td>0.000291</td>\n",
       "      <td>0.000064</td>\n",
       "      <td>0.001</td>\n",
       "      <td>1</td>\n",
       "      <td>{'C': 0.001, 'gamma': 1}</td>\n",
       "      <td>0.375</td>\n",
       "      <td>0.347826</td>\n",
       "      <td>0.363636</td>\n",
       "      <td>...</td>\n",
       "      <td>0.366071</td>\n",
       "      <td>0.011371</td>\n",
       "      <td>22</td>\n",
       "      <td>0.363636</td>\n",
       "      <td>0.370787</td>\n",
       "      <td>0.366667</td>\n",
       "      <td>0.366667</td>\n",
       "      <td>0.362637</td>\n",
       "      <td>0.366079</td>\n",
       "      <td>0.002852</td>\n",
       "    </tr>\n",
       "    <tr>\n",
       "      <th>4</th>\n",
       "      <td>0.000552</td>\n",
       "      <td>0.000016</td>\n",
       "      <td>0.000251</td>\n",
       "      <td>0.000019</td>\n",
       "      <td>0.001</td>\n",
       "      <td>10</td>\n",
       "      <td>{'C': 0.001, 'gamma': 10}</td>\n",
       "      <td>0.375</td>\n",
       "      <td>0.347826</td>\n",
       "      <td>0.363636</td>\n",
       "      <td>...</td>\n",
       "      <td>0.366071</td>\n",
       "      <td>0.011371</td>\n",
       "      <td>22</td>\n",
       "      <td>0.363636</td>\n",
       "      <td>0.370787</td>\n",
       "      <td>0.366667</td>\n",
       "      <td>0.366667</td>\n",
       "      <td>0.362637</td>\n",
       "      <td>0.366079</td>\n",
       "      <td>0.002852</td>\n",
       "    </tr>\n",
       "  </tbody>\n",
       "</table>\n",
       "<p>5 rows × 22 columns</p>\n",
       "</div>"
      ],
      "text/plain": [
       "   mean_fit_time  std_fit_time  mean_score_time  std_score_time param_C  \\\n",
       "0       0.000500      0.000053         0.000220        0.000011   0.001   \n",
       "1       0.000484      0.000032         0.000218        0.000007   0.001   \n",
       "2       0.000493      0.000015         0.000224        0.000008   0.001   \n",
       "3       0.000578      0.000024         0.000291        0.000064   0.001   \n",
       "4       0.000552      0.000016         0.000251        0.000019   0.001   \n",
       "\n",
       "  param_gamma                        params  split0_test_score  \\\n",
       "0       0.001  {'C': 0.001, 'gamma': 0.001}              0.375   \n",
       "1        0.01   {'C': 0.001, 'gamma': 0.01}              0.375   \n",
       "2         0.1    {'C': 0.001, 'gamma': 0.1}              0.375   \n",
       "3           1      {'C': 0.001, 'gamma': 1}              0.375   \n",
       "4          10     {'C': 0.001, 'gamma': 10}              0.375   \n",
       "\n",
       "   split1_test_score  split2_test_score       ...         mean_test_score  \\\n",
       "0           0.347826           0.363636       ...                0.366071   \n",
       "1           0.347826           0.363636       ...                0.366071   \n",
       "2           0.347826           0.363636       ...                0.366071   \n",
       "3           0.347826           0.363636       ...                0.366071   \n",
       "4           0.347826           0.363636       ...                0.366071   \n",
       "\n",
       "   std_test_score  rank_test_score  split0_train_score  split1_train_score  \\\n",
       "0        0.011371               22            0.363636            0.370787   \n",
       "1        0.011371               22            0.363636            0.370787   \n",
       "2        0.011371               22            0.363636            0.370787   \n",
       "3        0.011371               22            0.363636            0.370787   \n",
       "4        0.011371               22            0.363636            0.370787   \n",
       "\n",
       "   split2_train_score  split3_train_score  split4_train_score  \\\n",
       "0            0.366667            0.366667            0.362637   \n",
       "1            0.366667            0.366667            0.362637   \n",
       "2            0.366667            0.366667            0.362637   \n",
       "3            0.366667            0.366667            0.362637   \n",
       "4            0.366667            0.366667            0.362637   \n",
       "\n",
       "   mean_train_score  std_train_score  \n",
       "0          0.366079         0.002852  \n",
       "1          0.366079         0.002852  \n",
       "2          0.366079         0.002852  \n",
       "3          0.366079         0.002852  \n",
       "4          0.366079         0.002852  \n",
       "\n",
       "[5 rows x 22 columns]"
      ]
     },
     "metadata": {},
     "output_type": "display_data"
    }
   ],
   "source": [
    "results = pd.DataFrame(grid_search.cv_results_)\n",
    "display(results.head())"
   ]
  },
  {
   "cell_type": "code",
   "execution_count": 25,
   "metadata": {},
   "outputs": [
    {
     "data": {
      "text/plain": [
       "<matplotlib.collections.PolyCollection at 0x10f8e9828>"
      ]
     },
     "execution_count": 25,
     "metadata": {},
     "output_type": "execute_result"
    },
    {
     "data": {
      "image/png": "[encoded data removed]",
      "text/plain": [
       "<Figure size 432x288 with 1 Axes>"
      ]
     },
     "metadata": {
      "needs_background": "light"
     },
     "output_type": "display_data"
    }
   ],
   "source": [
    "scores = np.array(results.mean_test_score).reshape(6,6)\n",
    "mglearn.tools.heatmap(scores, xlabel='gamma', xticklabels=param_grid['gamma'], ylabel='C', yticklabels=param_grid['C'], cmap='viridis')"
   ]
  },
  {
   "cell_type": "code",
   "execution_count": 26,
   "metadata": {},
   "outputs": [
    {
     "data": {
      "text/plain": [
       "<matplotlib.colorbar.Colorbar at 0x10f613160>"
      ]
     },
     "execution_count": 26,
     "metadata": {},
     "output_type": "execute_result"
    },
    {
     "data": {
      "image/png": "[encoded data removed]",
      "text/plain": [
       "<Figure size 936x360 with 4 Axes>"
      ]
     },
     "metadata": {
      "needs_background": "light"
     },
     "output_type": "display_data"
    }
   ],
   "source": [
    "fig, axes = plt.subplots(1, 3, figsize=(13, 5))\n",
    "param_grid_linear = {'C': np.linspace(1, 2, 6), 'gamma': np.linspace(1, 2, 6)}\n",
    "param_grid_one_log = {'C': np.linspace(1, 2, 6), 'gamma': np.logspace(-3, 2, 6)}\n",
    "param_grid_range = {'C': np.logspace(-3, 2, 6), 'gamma': np.logspace(-7, -2, 6)}\n",
    "\n",
    "for param_grid, ax in zip([param_grid_linear, param_grid_one_log, param_grid_range], axes):\n",
    "    grid_search = GridSearchCV(SVC(), param_grid, cv=5, iid=True)\n",
    "    grid_search.fit(X_train, y_train)\n",
    "    scores = grid_search.cv_results_['mean_test_score'].reshape(6,6)\n",
    "    \n",
    "    scores_image = mglearn.tools.heatmap(scores, xlabel='gamma', xticklabels=param_grid['gamma'],\n",
    "                                        ylabel='C', yticklabels=param_grid['C'], cmap='viridis', ax=ax)\n",
    "    \n",
    "plt.colorbar(scores_image, ax=axes.tolist())"
   ]
  },
  {
   "cell_type": "code",
   "execution_count": 27,
   "metadata": {},
   "outputs": [
    {
     "name": "stdout",
     "output_type": "stream",
     "text": [
      "그리드 목록:\n",
      "[{'kernel': ['rbf'], 'C': [0.001, 0.01, 0.1, 1, 10, 100], 'gamma': [0.001, 0.01, 0.1, 1, 10, 100]}, {'kernel': ['linear'], 'C': [0.001, 0.01, 0.1, 1, 10, 100]}]\n"
     ]
    }
   ],
   "source": [
    "param_grid = [{'kernel': ['rbf'],\n",
    "              'C':[0.001, 0.01, 0.1, 1, 10, 100],\n",
    "              'gamma': [0.001, 0.01, 0.1, 1, 10, 100]},\n",
    "              {'kernel': ['linear'],\n",
    "              'C': [0.001, 0.01, 0.1, 1, 10, 100]}]\n",
    "print('그리드 목록:\\n{}'.format(param_grid))"
   ]
  },
  {
   "cell_type": "code",
   "execution_count": 28,
   "metadata": {},
   "outputs": [
    {
     "name": "stdout",
     "output_type": "stream",
     "text": [
      "최적 매개변수: {'C': 10, 'gamma': 0.1, 'kernel': 'rbf'}\n",
      "최고 교차 검증 점수: 0.99\n"
     ]
    }
   ],
   "source": [
    "grid_search = GridSearchCV(SVC(), param_grid, cv=5, iid=True, return_train_score=True)\n",
    "grid_search.fit(X_train, y_train)\n",
    "print('최적 매개변수: {}'.format(grid_search.best_params_))\n",
    "print('최고 교차 검증 점수: {:.2f}'.format(grid_search.best_score_))"
   ]
  },
  {
   "cell_type": "code",
   "execution_count": 29,
   "metadata": {},
   "outputs": [
    {
     "data": {
      "text/html": [
       "<div>\n",
       "<style scoped>\n",
       "    .dataframe tbody tr th:only-of-type {\n",
       "        vertical-align: middle;\n",
       "    }\n",
       "\n",
       "    .dataframe tbody tr th {\n",
       "        vertical-align: top;\n",
       "    }\n",
       "\n",
       "    .dataframe thead th {\n",
       "        text-align: right;\n",
       "    }\n",
       "</style>\n",
       "<table border=\"1\" class=\"dataframe\">\n",
       "  <thead>\n",
       "    <tr style=\"text-align: right;\">\n",
       "      <th></th>\n",
       "      <th>0</th>\n",
       "      <th>1</th>\n",
       "      <th>2</th>\n",
       "      <th>3</th>\n",
       "      <th>4</th>\n",
       "      <th>5</th>\n",
       "      <th>6</th>\n",
       "      <th>7</th>\n",
       "      <th>8</th>\n",
       "      <th>9</th>\n",
       "      <th>...</th>\n",
       "      <th>32</th>\n",
       "      <th>33</th>\n",
       "      <th>34</th>\n",
       "      <th>35</th>\n",
       "      <th>36</th>\n",
       "      <th>37</th>\n",
       "      <th>38</th>\n",
       "      <th>39</th>\n",
       "      <th>40</th>\n",
       "      <th>41</th>\n",
       "    </tr>\n",
       "  </thead>\n",
       "  <tbody>\n",
       "    <tr>\n",
       "      <th>mean_fit_time</th>\n",
       "      <td>0.000558424</td>\n",
       "      <td>0.000547886</td>\n",
       "      <td>0.000499487</td>\n",
       "      <td>0.000491476</td>\n",
       "      <td>0.000478649</td>\n",
       "      <td>0.000468636</td>\n",
       "      <td>0.000640488</td>\n",
       "      <td>0.000531006</td>\n",
       "      <td>0.000545216</td>\n",
       "      <td>0.000836372</td>\n",
       "      <td>...</td>\n",
       "      <td>0.000370789</td>\n",
       "      <td>0.000412655</td>\n",
       "      <td>0.000578022</td>\n",
       "      <td>0.000558662</td>\n",
       "      <td>0.000609303</td>\n",
       "      <td>0.000537586</td>\n",
       "      <td>0.000456095</td>\n",
       "      <td>0.000426054</td>\n",
       "      <td>0.000409365</td>\n",
       "      <td>0.000423384</td>\n",
       "    </tr>\n",
       "    <tr>\n",
       "      <th>std_fit_time</th>\n",
       "      <td>9.21124e-05</td>\n",
       "      <td>0.000127563</td>\n",
       "      <td>4.69022e-05</td>\n",
       "      <td>2.66204e-05</td>\n",
       "      <td>5.47775e-05</td>\n",
       "      <td>2.46431e-05</td>\n",
       "      <td>0.000129532</td>\n",
       "      <td>4.21399e-05</td>\n",
       "      <td>0.000107989</td>\n",
       "      <td>5.34256e-05</td>\n",
       "      <td>...</td>\n",
       "      <td>3.11424e-05</td>\n",
       "      <td>3.09053e-05</td>\n",
       "      <td>7.6439e-05</td>\n",
       "      <td>2.80457e-05</td>\n",
       "      <td>0.000117331</td>\n",
       "      <td>9.36339e-05</td>\n",
       "      <td>7.06629e-05</td>\n",
       "      <td>1.99424e-05</td>\n",
       "      <td>4.12749e-05</td>\n",
       "      <td>7.14674e-05</td>\n",
       "    </tr>\n",
       "    <tr>\n",
       "      <th>mean_score_time</th>\n",
       "      <td>0.000285339</td>\n",
       "      <td>0.000308275</td>\n",
       "      <td>0.000306177</td>\n",
       "      <td>0.000242329</td>\n",
       "      <td>0.000246477</td>\n",
       "      <td>0.000255013</td>\n",
       "      <td>0.000337505</td>\n",
       "      <td>0.000284767</td>\n",
       "      <td>0.000272226</td>\n",
       "      <td>0.000468445</td>\n",
       "      <td>...</td>\n",
       "      <td>0.000232124</td>\n",
       "      <td>0.000266409</td>\n",
       "      <td>0.000255299</td>\n",
       "      <td>0.000243568</td>\n",
       "      <td>0.000345993</td>\n",
       "      <td>0.000277853</td>\n",
       "      <td>0.000282145</td>\n",
       "      <td>0.000228167</td>\n",
       "      <td>0.000227499</td>\n",
       "      <td>0.000228739</td>\n",
       "    </tr>\n",
       "    <tr>\n",
       "      <th>std_score_time</th>\n",
       "      <td>2.79409e-05</td>\n",
       "      <td>5.43199e-05</td>\n",
       "      <td>6.38338e-05</td>\n",
       "      <td>1.04705e-05</td>\n",
       "      <td>1.88965e-05</td>\n",
       "      <td>4.42128e-05</td>\n",
       "      <td>7.10283e-05</td>\n",
       "      <td>1.42666e-05</td>\n",
       "      <td>4.56466e-05</td>\n",
       "      <td>6.73696e-05</td>\n",
       "      <td>...</td>\n",
       "      <td>3.72369e-05</td>\n",
       "      <td>6.75269e-05</td>\n",
       "      <td>3.28507e-05</td>\n",
       "      <td>1.75387e-05</td>\n",
       "      <td>3.97636e-05</td>\n",
       "      <td>5.97634e-05</td>\n",
       "      <td>5.28994e-05</td>\n",
       "      <td>1.62524e-05</td>\n",
       "      <td>3.59206e-05</td>\n",
       "      <td>3.74833e-05</td>\n",
       "    </tr>\n",
       "    <tr>\n",
       "      <th>param_C</th>\n",
       "      <td>0.001</td>\n",
       "      <td>0.001</td>\n",
       "      <td>0.001</td>\n",
       "      <td>0.001</td>\n",
       "      <td>0.001</td>\n",
       "      <td>0.001</td>\n",
       "      <td>0.01</td>\n",
       "      <td>0.01</td>\n",
       "      <td>0.01</td>\n",
       "      <td>0.01</td>\n",
       "      <td>...</td>\n",
       "      <td>100</td>\n",
       "      <td>100</td>\n",
       "      <td>100</td>\n",
       "      <td>100</td>\n",
       "      <td>0.001</td>\n",
       "      <td>0.01</td>\n",
       "      <td>0.1</td>\n",
       "      <td>1</td>\n",
       "      <td>10</td>\n",
       "      <td>100</td>\n",
       "    </tr>\n",
       "    <tr>\n",
       "      <th>param_gamma</th>\n",
       "      <td>0.001</td>\n",
       "      <td>0.01</td>\n",
       "      <td>0.1</td>\n",
       "      <td>1</td>\n",
       "      <td>10</td>\n",
       "      <td>100</td>\n",
       "      <td>0.001</td>\n",
       "      <td>0.01</td>\n",
       "      <td>0.1</td>\n",
       "      <td>1</td>\n",
       "      <td>...</td>\n",
       "      <td>0.1</td>\n",
       "      <td>1</td>\n",
       "      <td>10</td>\n",
       "      <td>100</td>\n",
       "      <td>NaN</td>\n",
       "      <td>NaN</td>\n",
       "      <td>NaN</td>\n",
       "      <td>NaN</td>\n",
       "      <td>NaN</td>\n",
       "      <td>NaN</td>\n",
       "    </tr>\n",
       "    <tr>\n",
       "      <th>param_kernel</th>\n",
       "      <td>rbf</td>\n",
       "      <td>rbf</td>\n",
       "      <td>rbf</td>\n",
       "      <td>rbf</td>\n",
       "      <td>rbf</td>\n",
       "      <td>rbf</td>\n",
       "      <td>rbf</td>\n",
       "      <td>rbf</td>\n",
       "      <td>rbf</td>\n",
       "      <td>rbf</td>\n",
       "      <td>...</td>\n",
       "      <td>rbf</td>\n",
       "      <td>rbf</td>\n",
       "      <td>rbf</td>\n",
       "      <td>rbf</td>\n",
       "      <td>linear</td>\n",
       "      <td>linear</td>\n",
       "      <td>linear</td>\n",
       "      <td>linear</td>\n",
       "      <td>linear</td>\n",
       "      <td>linear</td>\n",
       "    </tr>\n",
       "    <tr>\n",
       "      <th>params</th>\n",
       "      <td>{'C': 0.001, 'gamma': 0.001, 'kernel': 'rbf'}</td>\n",
       "      <td>{'C': 0.001, 'gamma': 0.01, 'kernel': 'rbf'}</td>\n",
       "      <td>{'C': 0.001, 'gamma': 0.1, 'kernel': 'rbf'}</td>\n",
       "      <td>{'C': 0.001, 'gamma': 1, 'kernel': 'rbf'}</td>\n",
       "      <td>{'C': 0.001, 'gamma': 10, 'kernel': 'rbf'}</td>\n",
       "      <td>{'C': 0.001, 'gamma': 100, 'kernel': 'rbf'}</td>\n",
       "      <td>{'C': 0.01, 'gamma': 0.001, 'kernel': 'rbf'}</td>\n",
       "      <td>{'C': 0.01, 'gamma': 0.01, 'kernel': 'rbf'}</td>\n",
       "      <td>{'C': 0.01, 'gamma': 0.1, 'kernel': 'rbf'}</td>\n",
       "      <td>{'C': 0.01, 'gamma': 1, 'kernel': 'rbf'}</td>\n",
       "      <td>...</td>\n",
       "      <td>{'C': 100, 'gamma': 0.1, 'kernel': 'rbf'}</td>\n",
       "      <td>{'C': 100, 'gamma': 1, 'kernel': 'rbf'}</td>\n",
       "      <td>{'C': 100, 'gamma': 10, 'kernel': 'rbf'}</td>\n",
       "      <td>{'C': 100, 'gamma': 100, 'kernel': 'rbf'}</td>\n",
       "      <td>{'C': 0.001, 'kernel': 'linear'}</td>\n",
       "      <td>{'C': 0.01, 'kernel': 'linear'}</td>\n",
       "      <td>{'C': 0.1, 'kernel': 'linear'}</td>\n",
       "      <td>{'C': 1, 'kernel': 'linear'}</td>\n",
       "      <td>{'C': 10, 'kernel': 'linear'}</td>\n",
       "      <td>{'C': 100, 'kernel': 'linear'}</td>\n",
       "    </tr>\n",
       "    <tr>\n",
       "      <th>split0_test_score</th>\n",
       "      <td>0.333333</td>\n",
       "      <td>0.333333</td>\n",
       "      <td>0.333333</td>\n",
       "      <td>0.333333</td>\n",
       "      <td>0.333333</td>\n",
       "      <td>0.333333</td>\n",
       "      <td>0.333333</td>\n",
       "      <td>0.333333</td>\n",
       "      <td>0.333333</td>\n",
       "      <td>0.333333</td>\n",
       "      <td>...</td>\n",
       "      <td>0.944444</td>\n",
       "      <td>0.944444</td>\n",
       "      <td>0.833333</td>\n",
       "      <td>0.5</td>\n",
       "      <td>0.333333</td>\n",
       "      <td>0.944444</td>\n",
       "      <td>0.888889</td>\n",
       "      <td>1</td>\n",
       "      <td>1</td>\n",
       "      <td>0.944444</td>\n",
       "    </tr>\n",
       "    <tr>\n",
       "      <th>split1_test_score</th>\n",
       "      <td>0.333333</td>\n",
       "      <td>0.333333</td>\n",
       "      <td>0.333333</td>\n",
       "      <td>0.333333</td>\n",
       "      <td>0.333333</td>\n",
       "      <td>0.333333</td>\n",
       "      <td>0.333333</td>\n",
       "      <td>0.333333</td>\n",
       "      <td>0.333333</td>\n",
       "      <td>0.333333</td>\n",
       "      <td>...</td>\n",
       "      <td>0.888889</td>\n",
       "      <td>0.944444</td>\n",
       "      <td>0.833333</td>\n",
       "      <td>0.388889</td>\n",
       "      <td>0.333333</td>\n",
       "      <td>0.888889</td>\n",
       "      <td>0.944444</td>\n",
       "      <td>0.944444</td>\n",
       "      <td>0.888889</td>\n",
       "      <td>0.888889</td>\n",
       "    </tr>\n",
       "    <tr>\n",
       "      <th>split2_test_score</th>\n",
       "      <td>0.352941</td>\n",
       "      <td>0.352941</td>\n",
       "      <td>0.352941</td>\n",
       "      <td>0.352941</td>\n",
       "      <td>0.352941</td>\n",
       "      <td>0.352941</td>\n",
       "      <td>0.352941</td>\n",
       "      <td>0.352941</td>\n",
       "      <td>0.352941</td>\n",
       "      <td>0.352941</td>\n",
       "      <td>...</td>\n",
       "      <td>1</td>\n",
       "      <td>1</td>\n",
       "      <td>1</td>\n",
       "      <td>0.588235</td>\n",
       "      <td>0.352941</td>\n",
       "      <td>0.941176</td>\n",
       "      <td>1</td>\n",
       "      <td>1</td>\n",
       "      <td>1</td>\n",
       "      <td>1</td>\n",
       "    </tr>\n",
       "    <tr>\n",
       "      <th>split3_test_score</th>\n",
       "      <td>0.6875</td>\n",
       "      <td>0.6875</td>\n",
       "      <td>0.6875</td>\n",
       "      <td>0.6875</td>\n",
       "      <td>0.6875</td>\n",
       "      <td>0.5625</td>\n",
       "      <td>0.6875</td>\n",
       "      <td>0.6875</td>\n",
       "      <td>0.6875</td>\n",
       "      <td>0.6875</td>\n",
       "      <td>...</td>\n",
       "      <td>1</td>\n",
       "      <td>1</td>\n",
       "      <td>1</td>\n",
       "      <td>0.625</td>\n",
       "      <td>0.6875</td>\n",
       "      <td>0.8125</td>\n",
       "      <td>1</td>\n",
       "      <td>1</td>\n",
       "      <td>1</td>\n",
       "      <td>0.8125</td>\n",
       "    </tr>\n",
       "    <tr>\n",
       "      <th>split4_test_score</th>\n",
       "      <td>0.333333</td>\n",
       "      <td>0.333333</td>\n",
       "      <td>0.333333</td>\n",
       "      <td>0.333333</td>\n",
       "      <td>0.333333</td>\n",
       "      <td>0.333333</td>\n",
       "      <td>0.333333</td>\n",
       "      <td>0.333333</td>\n",
       "      <td>0.333333</td>\n",
       "      <td>0.333333</td>\n",
       "      <td>...</td>\n",
       "      <td>1</td>\n",
       "      <td>1</td>\n",
       "      <td>1</td>\n",
       "      <td>0.466667</td>\n",
       "      <td>0.333333</td>\n",
       "      <td>0.8</td>\n",
       "      <td>0.933333</td>\n",
       "      <td>1</td>\n",
       "      <td>1</td>\n",
       "      <td>1</td>\n",
       "    </tr>\n",
       "    <tr>\n",
       "      <th>mean_test_score</th>\n",
       "      <td>0.404762</td>\n",
       "      <td>0.404762</td>\n",
       "      <td>0.404762</td>\n",
       "      <td>0.404762</td>\n",
       "      <td>0.404762</td>\n",
       "      <td>0.380952</td>\n",
       "      <td>0.404762</td>\n",
       "      <td>0.404762</td>\n",
       "      <td>0.404762</td>\n",
       "      <td>0.404762</td>\n",
       "      <td>...</td>\n",
       "      <td>0.964286</td>\n",
       "      <td>0.97619</td>\n",
       "      <td>0.928571</td>\n",
       "      <td>0.511905</td>\n",
       "      <td>0.404762</td>\n",
       "      <td>0.880952</td>\n",
       "      <td>0.952381</td>\n",
       "      <td>0.988095</td>\n",
       "      <td>0.97619</td>\n",
       "      <td>0.928571</td>\n",
       "    </tr>\n",
       "    <tr>\n",
       "      <th>std_test_score</th>\n",
       "      <td>0.137361</td>\n",
       "      <td>0.137361</td>\n",
       "      <td>0.137361</td>\n",
       "      <td>0.137361</td>\n",
       "      <td>0.137361</td>\n",
       "      <td>0.0883942</td>\n",
       "      <td>0.137361</td>\n",
       "      <td>0.137361</td>\n",
       "      <td>0.137361</td>\n",
       "      <td>0.137361</td>\n",
       "      <td>...</td>\n",
       "      <td>0.0450707</td>\n",
       "      <td>0.0274929</td>\n",
       "      <td>0.0824786</td>\n",
       "      <td>0.0851705</td>\n",
       "      <td>0.137361</td>\n",
       "      <td>0.0606144</td>\n",
       "      <td>0.042813</td>\n",
       "      <td>0.0227959</td>\n",
       "      <td>0.0455918</td>\n",
       "      <td>0.070009</td>\n",
       "    </tr>\n",
       "    <tr>\n",
       "      <th>rank_test_score</th>\n",
       "      <td>27</td>\n",
       "      <td>27</td>\n",
       "      <td>27</td>\n",
       "      <td>27</td>\n",
       "      <td>27</td>\n",
       "      <td>40</td>\n",
       "      <td>27</td>\n",
       "      <td>27</td>\n",
       "      <td>27</td>\n",
       "      <td>27</td>\n",
       "      <td>...</td>\n",
       "      <td>7</td>\n",
       "      <td>4</td>\n",
       "      <td>13</td>\n",
       "      <td>24</td>\n",
       "      <td>27</td>\n",
       "      <td>21</td>\n",
       "      <td>8</td>\n",
       "      <td>1</td>\n",
       "      <td>4</td>\n",
       "      <td>13</td>\n",
       "    </tr>\n",
       "    <tr>\n",
       "      <th>split0_train_score</th>\n",
       "      <td>0.348485</td>\n",
       "      <td>0.348485</td>\n",
       "      <td>0.348485</td>\n",
       "      <td>0.348485</td>\n",
       "      <td>0.348485</td>\n",
       "      <td>0.348485</td>\n",
       "      <td>0.348485</td>\n",
       "      <td>0.348485</td>\n",
       "      <td>0.348485</td>\n",
       "      <td>0.348485</td>\n",
       "      <td>...</td>\n",
       "      <td>1</td>\n",
       "      <td>1</td>\n",
       "      <td>1</td>\n",
       "      <td>1</td>\n",
       "      <td>0.348485</td>\n",
       "      <td>0.818182</td>\n",
       "      <td>0.969697</td>\n",
       "      <td>1</td>\n",
       "      <td>1</td>\n",
       "      <td>1</td>\n",
       "    </tr>\n",
       "    <tr>\n",
       "      <th>split1_train_score</th>\n",
       "      <td>0.348485</td>\n",
       "      <td>0.348485</td>\n",
       "      <td>0.348485</td>\n",
       "      <td>0.348485</td>\n",
       "      <td>0.348485</td>\n",
       "      <td>0.348485</td>\n",
       "      <td>0.348485</td>\n",
       "      <td>0.348485</td>\n",
       "      <td>0.348485</td>\n",
       "      <td>0.348485</td>\n",
       "      <td>...</td>\n",
       "      <td>1</td>\n",
       "      <td>1</td>\n",
       "      <td>1</td>\n",
       "      <td>1</td>\n",
       "      <td>0.348485</td>\n",
       "      <td>0.863636</td>\n",
       "      <td>0.984848</td>\n",
       "      <td>1</td>\n",
       "      <td>1</td>\n",
       "      <td>1</td>\n",
       "    </tr>\n",
       "    <tr>\n",
       "      <th>split2_train_score</th>\n",
       "      <td>0.343284</td>\n",
       "      <td>0.343284</td>\n",
       "      <td>0.343284</td>\n",
       "      <td>0.343284</td>\n",
       "      <td>0.343284</td>\n",
       "      <td>0.343284</td>\n",
       "      <td>0.343284</td>\n",
       "      <td>0.343284</td>\n",
       "      <td>0.343284</td>\n",
       "      <td>0.343284</td>\n",
       "      <td>...</td>\n",
       "      <td>1</td>\n",
       "      <td>1</td>\n",
       "      <td>1</td>\n",
       "      <td>1</td>\n",
       "      <td>0.343284</td>\n",
       "      <td>0.910448</td>\n",
       "      <td>0.940299</td>\n",
       "      <td>0.985075</td>\n",
       "      <td>1</td>\n",
       "      <td>1</td>\n",
       "    </tr>\n",
       "    <tr>\n",
       "      <th>split3_train_score</th>\n",
       "      <td>0.676471</td>\n",
       "      <td>0.676471</td>\n",
       "      <td>0.676471</td>\n",
       "      <td>0.676471</td>\n",
       "      <td>0.676471</td>\n",
       "      <td>0.676471</td>\n",
       "      <td>0.676471</td>\n",
       "      <td>0.676471</td>\n",
       "      <td>0.676471</td>\n",
       "      <td>0.676471</td>\n",
       "      <td>...</td>\n",
       "      <td>1</td>\n",
       "      <td>1</td>\n",
       "      <td>1</td>\n",
       "      <td>1</td>\n",
       "      <td>0.676471</td>\n",
       "      <td>0.882353</td>\n",
       "      <td>0.955882</td>\n",
       "      <td>0.985294</td>\n",
       "      <td>1</td>\n",
       "      <td>1</td>\n",
       "    </tr>\n",
       "    <tr>\n",
       "      <th>split4_train_score</th>\n",
       "      <td>0.347826</td>\n",
       "      <td>0.347826</td>\n",
       "      <td>0.347826</td>\n",
       "      <td>0.347826</td>\n",
       "      <td>0.347826</td>\n",
       "      <td>0.347826</td>\n",
       "      <td>0.347826</td>\n",
       "      <td>0.347826</td>\n",
       "      <td>0.347826</td>\n",
       "      <td>0.347826</td>\n",
       "      <td>...</td>\n",
       "      <td>1</td>\n",
       "      <td>1</td>\n",
       "      <td>1</td>\n",
       "      <td>1</td>\n",
       "      <td>0.347826</td>\n",
       "      <td>0.898551</td>\n",
       "      <td>0.956522</td>\n",
       "      <td>1</td>\n",
       "      <td>1</td>\n",
       "      <td>1</td>\n",
       "    </tr>\n",
       "    <tr>\n",
       "      <th>mean_train_score</th>\n",
       "      <td>0.41291</td>\n",
       "      <td>0.41291</td>\n",
       "      <td>0.41291</td>\n",
       "      <td>0.41291</td>\n",
       "      <td>0.41291</td>\n",
       "      <td>0.41291</td>\n",
       "      <td>0.41291</td>\n",
       "      <td>0.41291</td>\n",
       "      <td>0.41291</td>\n",
       "      <td>0.41291</td>\n",
       "      <td>...</td>\n",
       "      <td>1</td>\n",
       "      <td>1</td>\n",
       "      <td>1</td>\n",
       "      <td>1</td>\n",
       "      <td>0.41291</td>\n",
       "      <td>0.874634</td>\n",
       "      <td>0.96145</td>\n",
       "      <td>0.994074</td>\n",
       "      <td>1</td>\n",
       "      <td>1</td>\n",
       "    </tr>\n",
       "    <tr>\n",
       "      <th>std_train_score</th>\n",
       "      <td>0.131795</td>\n",
       "      <td>0.131795</td>\n",
       "      <td>0.131795</td>\n",
       "      <td>0.131795</td>\n",
       "      <td>0.131795</td>\n",
       "      <td>0.131795</td>\n",
       "      <td>0.131795</td>\n",
       "      <td>0.131795</td>\n",
       "      <td>0.131795</td>\n",
       "      <td>0.131795</td>\n",
       "      <td>...</td>\n",
       "      <td>0</td>\n",
       "      <td>0</td>\n",
       "      <td>0</td>\n",
       "      <td>0</td>\n",
       "      <td>0.131795</td>\n",
       "      <td>0.0323172</td>\n",
       "      <td>0.0149544</td>\n",
       "      <td>0.00725848</td>\n",
       "      <td>0</td>\n",
       "      <td>0</td>\n",
       "    </tr>\n",
       "  </tbody>\n",
       "</table>\n",
       "<p>23 rows × 42 columns</p>\n",
       "</div>"
      ],
      "text/plain": [
       "                                                               0   \\\n",
       "mean_fit_time                                         0.000558424   \n",
       "std_fit_time                                          9.21124e-05   \n",
       "mean_score_time                                       0.000285339   \n",
       "std_score_time                                        2.79409e-05   \n",
       "param_C                                                     0.001   \n",
       "param_gamma                                                 0.001   \n",
       "param_kernel                                                  rbf   \n",
       "params              {'C': 0.001, 'gamma': 0.001, 'kernel': 'rbf'}   \n",
       "split0_test_score                                        0.333333   \n",
       "split1_test_score                                        0.333333   \n",
       "split2_test_score                                        0.352941   \n",
       "split3_test_score                                          0.6875   \n",
       "split4_test_score                                        0.333333   \n",
       "mean_test_score                                          0.404762   \n",
       "std_test_score                                           0.137361   \n",
       "rank_test_score                                                27   \n",
       "split0_train_score                                       0.348485   \n",
       "split1_train_score                                       0.348485   \n",
       "split2_train_score                                       0.343284   \n",
       "split3_train_score                                       0.676471   \n",
       "split4_train_score                                       0.347826   \n",
       "mean_train_score                                          0.41291   \n",
       "std_train_score                                          0.131795   \n",
       "\n",
       "                                                              1   \\\n",
       "mean_fit_time                                        0.000547886   \n",
       "std_fit_time                                         0.000127563   \n",
       "mean_score_time                                      0.000308275   \n",
       "std_score_time                                       5.43199e-05   \n",
       "param_C                                                    0.001   \n",
       "param_gamma                                                 0.01   \n",
       "param_kernel                                                 rbf   \n",
       "params              {'C': 0.001, 'gamma': 0.01, 'kernel': 'rbf'}   \n",
       "split0_test_score                                       0.333333   \n",
       "split1_test_score                                       0.333333   \n",
       "split2_test_score                                       0.352941   \n",
       "split3_test_score                                         0.6875   \n",
       "split4_test_score                                       0.333333   \n",
       "mean_test_score                                         0.404762   \n",
       "std_test_score                                          0.137361   \n",
       "rank_test_score                                               27   \n",
       "split0_train_score                                      0.348485   \n",
       "split1_train_score                                      0.348485   \n",
       "split2_train_score                                      0.343284   \n",
       "split3_train_score                                      0.676471   \n",
       "split4_train_score                                      0.347826   \n",
       "mean_train_score                                         0.41291   \n",
       "std_train_score                                         0.131795   \n",
       "\n",
       "                                                             2   \\\n",
       "mean_fit_time                                       0.000499487   \n",
       "std_fit_time                                        4.69022e-05   \n",
       "mean_score_time                                     0.000306177   \n",
       "std_score_time                                      6.38338e-05   \n",
       "param_C                                                   0.001   \n",
       "param_gamma                                                 0.1   \n",
       "param_kernel                                                rbf   \n",
       "params              {'C': 0.001, 'gamma': 0.1, 'kernel': 'rbf'}   \n",
       "split0_test_score                                      0.333333   \n",
       "split1_test_score                                      0.333333   \n",
       "split2_test_score                                      0.352941   \n",
       "split3_test_score                                        0.6875   \n",
       "split4_test_score                                      0.333333   \n",
       "mean_test_score                                        0.404762   \n",
       "std_test_score                                         0.137361   \n",
       "rank_test_score                                              27   \n",
       "split0_train_score                                     0.348485   \n",
       "split1_train_score                                     0.348485   \n",
       "split2_train_score                                     0.343284   \n",
       "split3_train_score                                     0.676471   \n",
       "split4_train_score                                     0.347826   \n",
       "mean_train_score                                        0.41291   \n",
       "std_train_score                                        0.131795   \n",
       "\n",
       "                                                           3   \\\n",
       "mean_fit_time                                     0.000491476   \n",
       "std_fit_time                                      2.66204e-05   \n",
       "mean_score_time                                   0.000242329   \n",
       "std_score_time                                    1.04705e-05   \n",
       "param_C                                                 0.001   \n",
       "param_gamma                                                 1   \n",
       "param_kernel                                              rbf   \n",
       "params              {'C': 0.001, 'gamma': 1, 'kernel': 'rbf'}   \n",
       "split0_test_score                                    0.333333   \n",
       "split1_test_score                                    0.333333   \n",
       "split2_test_score                                    0.352941   \n",
       "split3_test_score                                      0.6875   \n",
       "split4_test_score                                    0.333333   \n",
       "mean_test_score                                      0.404762   \n",
       "std_test_score                                       0.137361   \n",
       "rank_test_score                                            27   \n",
       "split0_train_score                                   0.348485   \n",
       "split1_train_score                                   0.348485   \n",
       "split2_train_score                                   0.343284   \n",
       "split3_train_score                                   0.676471   \n",
       "split4_train_score                                   0.347826   \n",
       "mean_train_score                                      0.41291   \n",
       "std_train_score                                      0.131795   \n",
       "\n",
       "                                                            4   \\\n",
       "mean_fit_time                                      0.000478649   \n",
       "std_fit_time                                       5.47775e-05   \n",
       "mean_score_time                                    0.000246477   \n",
       "std_score_time                                     1.88965e-05   \n",
       "param_C                                                  0.001   \n",
       "param_gamma                                                 10   \n",
       "param_kernel                                               rbf   \n",
       "params              {'C': 0.001, 'gamma': 10, 'kernel': 'rbf'}   \n",
       "split0_test_score                                     0.333333   \n",
       "split1_test_score                                     0.333333   \n",
       "split2_test_score                                     0.352941   \n",
       "split3_test_score                                       0.6875   \n",
       "split4_test_score                                     0.333333   \n",
       "mean_test_score                                       0.404762   \n",
       "std_test_score                                        0.137361   \n",
       "rank_test_score                                             27   \n",
       "split0_train_score                                    0.348485   \n",
       "split1_train_score                                    0.348485   \n",
       "split2_train_score                                    0.343284   \n",
       "split3_train_score                                    0.676471   \n",
       "split4_train_score                                    0.347826   \n",
       "mean_train_score                                       0.41291   \n",
       "std_train_score                                       0.131795   \n",
       "\n",
       "                                                             5   \\\n",
       "mean_fit_time                                       0.000468636   \n",
       "std_fit_time                                        2.46431e-05   \n",
       "mean_score_time                                     0.000255013   \n",
       "std_score_time                                      4.42128e-05   \n",
       "param_C                                                   0.001   \n",
       "param_gamma                                                 100   \n",
       "param_kernel                                                rbf   \n",
       "params              {'C': 0.001, 'gamma': 100, 'kernel': 'rbf'}   \n",
       "split0_test_score                                      0.333333   \n",
       "split1_test_score                                      0.333333   \n",
       "split2_test_score                                      0.352941   \n",
       "split3_test_score                                        0.5625   \n",
       "split4_test_score                                      0.333333   \n",
       "mean_test_score                                        0.380952   \n",
       "std_test_score                                        0.0883942   \n",
       "rank_test_score                                              40   \n",
       "split0_train_score                                     0.348485   \n",
       "split1_train_score                                     0.348485   \n",
       "split2_train_score                                     0.343284   \n",
       "split3_train_score                                     0.676471   \n",
       "split4_train_score                                     0.347826   \n",
       "mean_train_score                                        0.41291   \n",
       "std_train_score                                        0.131795   \n",
       "\n",
       "                                                              6   \\\n",
       "mean_fit_time                                        0.000640488   \n",
       "std_fit_time                                         0.000129532   \n",
       "mean_score_time                                      0.000337505   \n",
       "std_score_time                                       7.10283e-05   \n",
       "param_C                                                     0.01   \n",
       "param_gamma                                                0.001   \n",
       "param_kernel                                                 rbf   \n",
       "params              {'C': 0.01, 'gamma': 0.001, 'kernel': 'rbf'}   \n",
       "split0_test_score                                       0.333333   \n",
       "split1_test_score                                       0.333333   \n",
       "split2_test_score                                       0.352941   \n",
       "split3_test_score                                         0.6875   \n",
       "split4_test_score                                       0.333333   \n",
       "mean_test_score                                         0.404762   \n",
       "std_test_score                                          0.137361   \n",
       "rank_test_score                                               27   \n",
       "split0_train_score                                      0.348485   \n",
       "split1_train_score                                      0.348485   \n",
       "split2_train_score                                      0.343284   \n",
       "split3_train_score                                      0.676471   \n",
       "split4_train_score                                      0.347826   \n",
       "mean_train_score                                         0.41291   \n",
       "std_train_score                                         0.131795   \n",
       "\n",
       "                                                             7   \\\n",
       "mean_fit_time                                       0.000531006   \n",
       "std_fit_time                                        4.21399e-05   \n",
       "mean_score_time                                     0.000284767   \n",
       "std_score_time                                      1.42666e-05   \n",
       "param_C                                                    0.01   \n",
       "param_gamma                                                0.01   \n",
       "param_kernel                                                rbf   \n",
       "params              {'C': 0.01, 'gamma': 0.01, 'kernel': 'rbf'}   \n",
       "split0_test_score                                      0.333333   \n",
       "split1_test_score                                      0.333333   \n",
       "split2_test_score                                      0.352941   \n",
       "split3_test_score                                        0.6875   \n",
       "split4_test_score                                      0.333333   \n",
       "mean_test_score                                        0.404762   \n",
       "std_test_score                                         0.137361   \n",
       "rank_test_score                                              27   \n",
       "split0_train_score                                     0.348485   \n",
       "split1_train_score                                     0.348485   \n",
       "split2_train_score                                     0.343284   \n",
       "split3_train_score                                     0.676471   \n",
       "split4_train_score                                     0.347826   \n",
       "mean_train_score                                        0.41291   \n",
       "std_train_score                                        0.131795   \n",
       "\n",
       "                                                            8   \\\n",
       "mean_fit_time                                      0.000545216   \n",
       "std_fit_time                                       0.000107989   \n",
       "mean_score_time                                    0.000272226   \n",
       "std_score_time                                     4.56466e-05   \n",
       "param_C                                                   0.01   \n",
       "param_gamma                                                0.1   \n",
       "param_kernel                                               rbf   \n",
       "params              {'C': 0.01, 'gamma': 0.1, 'kernel': 'rbf'}   \n",
       "split0_test_score                                     0.333333   \n",
       "split1_test_score                                     0.333333   \n",
       "split2_test_score                                     0.352941   \n",
       "split3_test_score                                       0.6875   \n",
       "split4_test_score                                     0.333333   \n",
       "mean_test_score                                       0.404762   \n",
       "std_test_score                                        0.137361   \n",
       "rank_test_score                                             27   \n",
       "split0_train_score                                    0.348485   \n",
       "split1_train_score                                    0.348485   \n",
       "split2_train_score                                    0.343284   \n",
       "split3_train_score                                    0.676471   \n",
       "split4_train_score                                    0.347826   \n",
       "mean_train_score                                       0.41291   \n",
       "std_train_score                                       0.131795   \n",
       "\n",
       "                                                          9   \\\n",
       "mean_fit_time                                    0.000836372   \n",
       "std_fit_time                                     5.34256e-05   \n",
       "mean_score_time                                  0.000468445   \n",
       "std_score_time                                   6.73696e-05   \n",
       "param_C                                                 0.01   \n",
       "param_gamma                                                1   \n",
       "param_kernel                                             rbf   \n",
       "params              {'C': 0.01, 'gamma': 1, 'kernel': 'rbf'}   \n",
       "split0_test_score                                   0.333333   \n",
       "split1_test_score                                   0.333333   \n",
       "split2_test_score                                   0.352941   \n",
       "split3_test_score                                     0.6875   \n",
       "split4_test_score                                   0.333333   \n",
       "mean_test_score                                     0.404762   \n",
       "std_test_score                                      0.137361   \n",
       "rank_test_score                                           27   \n",
       "split0_train_score                                  0.348485   \n",
       "split1_train_score                                  0.348485   \n",
       "split2_train_score                                  0.343284   \n",
       "split3_train_score                                  0.676471   \n",
       "split4_train_score                                  0.347826   \n",
       "mean_train_score                                     0.41291   \n",
       "std_train_score                                     0.131795   \n",
       "\n",
       "                                 ...                \\\n",
       "mean_fit_time                    ...                 \n",
       "std_fit_time                     ...                 \n",
       "mean_score_time                  ...                 \n",
       "std_score_time                   ...                 \n",
       "param_C                          ...                 \n",
       "param_gamma                      ...                 \n",
       "param_kernel                     ...                 \n",
       "params                           ...                 \n",
       "split0_test_score                ...                 \n",
       "split1_test_score                ...                 \n",
       "split2_test_score                ...                 \n",
       "split3_test_score                ...                 \n",
       "split4_test_score                ...                 \n",
       "mean_test_score                  ...                 \n",
       "std_test_score                   ...                 \n",
       "rank_test_score                  ...                 \n",
       "split0_train_score               ...                 \n",
       "split1_train_score               ...                 \n",
       "split2_train_score               ...                 \n",
       "split3_train_score               ...                 \n",
       "split4_train_score               ...                 \n",
       "mean_train_score                 ...                 \n",
       "std_train_score                  ...                 \n",
       "\n",
       "                                                           32  \\\n",
       "mean_fit_time                                     0.000370789   \n",
       "std_fit_time                                      3.11424e-05   \n",
       "mean_score_time                                   0.000232124   \n",
       "std_score_time                                    3.72369e-05   \n",
       "param_C                                                   100   \n",
       "param_gamma                                               0.1   \n",
       "param_kernel                                              rbf   \n",
       "params              {'C': 100, 'gamma': 0.1, 'kernel': 'rbf'}   \n",
       "split0_test_score                                    0.944444   \n",
       "split1_test_score                                    0.888889   \n",
       "split2_test_score                                           1   \n",
       "split3_test_score                                           1   \n",
       "split4_test_score                                           1   \n",
       "mean_test_score                                      0.964286   \n",
       "std_test_score                                      0.0450707   \n",
       "rank_test_score                                             7   \n",
       "split0_train_score                                          1   \n",
       "split1_train_score                                          1   \n",
       "split2_train_score                                          1   \n",
       "split3_train_score                                          1   \n",
       "split4_train_score                                          1   \n",
       "mean_train_score                                            1   \n",
       "std_train_score                                             0   \n",
       "\n",
       "                                                         33  \\\n",
       "mean_fit_time                                   0.000412655   \n",
       "std_fit_time                                    3.09053e-05   \n",
       "mean_score_time                                 0.000266409   \n",
       "std_score_time                                  6.75269e-05   \n",
       "param_C                                                 100   \n",
       "param_gamma                                               1   \n",
       "param_kernel                                            rbf   \n",
       "params              {'C': 100, 'gamma': 1, 'kernel': 'rbf'}   \n",
       "split0_test_score                                  0.944444   \n",
       "split1_test_score                                  0.944444   \n",
       "split2_test_score                                         1   \n",
       "split3_test_score                                         1   \n",
       "split4_test_score                                         1   \n",
       "mean_test_score                                     0.97619   \n",
       "std_test_score                                    0.0274929   \n",
       "rank_test_score                                           4   \n",
       "split0_train_score                                        1   \n",
       "split1_train_score                                        1   \n",
       "split2_train_score                                        1   \n",
       "split3_train_score                                        1   \n",
       "split4_train_score                                        1   \n",
       "mean_train_score                                          1   \n",
       "std_train_score                                           0   \n",
       "\n",
       "                                                          34  \\\n",
       "mean_fit_time                                    0.000578022   \n",
       "std_fit_time                                      7.6439e-05   \n",
       "mean_score_time                                  0.000255299   \n",
       "std_score_time                                   3.28507e-05   \n",
       "param_C                                                  100   \n",
       "param_gamma                                               10   \n",
       "param_kernel                                             rbf   \n",
       "params              {'C': 100, 'gamma': 10, 'kernel': 'rbf'}   \n",
       "split0_test_score                                   0.833333   \n",
       "split1_test_score                                   0.833333   \n",
       "split2_test_score                                          1   \n",
       "split3_test_score                                          1   \n",
       "split4_test_score                                          1   \n",
       "mean_test_score                                     0.928571   \n",
       "std_test_score                                     0.0824786   \n",
       "rank_test_score                                           13   \n",
       "split0_train_score                                         1   \n",
       "split1_train_score                                         1   \n",
       "split2_train_score                                         1   \n",
       "split3_train_score                                         1   \n",
       "split4_train_score                                         1   \n",
       "mean_train_score                                           1   \n",
       "std_train_score                                            0   \n",
       "\n",
       "                                                           35  \\\n",
       "mean_fit_time                                     0.000558662   \n",
       "std_fit_time                                      2.80457e-05   \n",
       "mean_score_time                                   0.000243568   \n",
       "std_score_time                                    1.75387e-05   \n",
       "param_C                                                   100   \n",
       "param_gamma                                               100   \n",
       "param_kernel                                              rbf   \n",
       "params              {'C': 100, 'gamma': 100, 'kernel': 'rbf'}   \n",
       "split0_test_score                                         0.5   \n",
       "split1_test_score                                    0.388889   \n",
       "split2_test_score                                    0.588235   \n",
       "split3_test_score                                       0.625   \n",
       "split4_test_score                                    0.466667   \n",
       "mean_test_score                                      0.511905   \n",
       "std_test_score                                      0.0851705   \n",
       "rank_test_score                                            24   \n",
       "split0_train_score                                          1   \n",
       "split1_train_score                                          1   \n",
       "split2_train_score                                          1   \n",
       "split3_train_score                                          1   \n",
       "split4_train_score                                          1   \n",
       "mean_train_score                                            1   \n",
       "std_train_score                                             0   \n",
       "\n",
       "                                                  36  \\\n",
       "mean_fit_time                            0.000609303   \n",
       "std_fit_time                             0.000117331   \n",
       "mean_score_time                          0.000345993   \n",
       "std_score_time                           3.97636e-05   \n",
       "param_C                                        0.001   \n",
       "param_gamma                                      NaN   \n",
       "param_kernel                                  linear   \n",
       "params              {'C': 0.001, 'kernel': 'linear'}   \n",
       "split0_test_score                           0.333333   \n",
       "split1_test_score                           0.333333   \n",
       "split2_test_score                           0.352941   \n",
       "split3_test_score                             0.6875   \n",
       "split4_test_score                           0.333333   \n",
       "mean_test_score                             0.404762   \n",
       "std_test_score                              0.137361   \n",
       "rank_test_score                                   27   \n",
       "split0_train_score                          0.348485   \n",
       "split1_train_score                          0.348485   \n",
       "split2_train_score                          0.343284   \n",
       "split3_train_score                          0.676471   \n",
       "split4_train_score                          0.347826   \n",
       "mean_train_score                             0.41291   \n",
       "std_train_score                             0.131795   \n",
       "\n",
       "                                                 37  \\\n",
       "mean_fit_time                           0.000537586   \n",
       "std_fit_time                            9.36339e-05   \n",
       "mean_score_time                         0.000277853   \n",
       "std_score_time                          5.97634e-05   \n",
       "param_C                                        0.01   \n",
       "param_gamma                                     NaN   \n",
       "param_kernel                                 linear   \n",
       "params              {'C': 0.01, 'kernel': 'linear'}   \n",
       "split0_test_score                          0.944444   \n",
       "split1_test_score                          0.888889   \n",
       "split2_test_score                          0.941176   \n",
       "split3_test_score                            0.8125   \n",
       "split4_test_score                               0.8   \n",
       "mean_test_score                            0.880952   \n",
       "std_test_score                            0.0606144   \n",
       "rank_test_score                                  21   \n",
       "split0_train_score                         0.818182   \n",
       "split1_train_score                         0.863636   \n",
       "split2_train_score                         0.910448   \n",
       "split3_train_score                         0.882353   \n",
       "split4_train_score                         0.898551   \n",
       "mean_train_score                           0.874634   \n",
       "std_train_score                           0.0323172   \n",
       "\n",
       "                                                38  \\\n",
       "mean_fit_time                          0.000456095   \n",
       "std_fit_time                           7.06629e-05   \n",
       "mean_score_time                        0.000282145   \n",
       "std_score_time                         5.28994e-05   \n",
       "param_C                                        0.1   \n",
       "param_gamma                                    NaN   \n",
       "param_kernel                                linear   \n",
       "params              {'C': 0.1, 'kernel': 'linear'}   \n",
       "split0_test_score                         0.888889   \n",
       "split1_test_score                         0.944444   \n",
       "split2_test_score                                1   \n",
       "split3_test_score                                1   \n",
       "split4_test_score                         0.933333   \n",
       "mean_test_score                           0.952381   \n",
       "std_test_score                            0.042813   \n",
       "rank_test_score                                  8   \n",
       "split0_train_score                        0.969697   \n",
       "split1_train_score                        0.984848   \n",
       "split2_train_score                        0.940299   \n",
       "split3_train_score                        0.955882   \n",
       "split4_train_score                        0.956522   \n",
       "mean_train_score                           0.96145   \n",
       "std_train_score                          0.0149544   \n",
       "\n",
       "                                              39  \\\n",
       "mean_fit_time                        0.000426054   \n",
       "std_fit_time                         1.99424e-05   \n",
       "mean_score_time                      0.000228167   \n",
       "std_score_time                       1.62524e-05   \n",
       "param_C                                        1   \n",
       "param_gamma                                  NaN   \n",
       "param_kernel                              linear   \n",
       "params              {'C': 1, 'kernel': 'linear'}   \n",
       "split0_test_score                              1   \n",
       "split1_test_score                       0.944444   \n",
       "split2_test_score                              1   \n",
       "split3_test_score                              1   \n",
       "split4_test_score                              1   \n",
       "mean_test_score                         0.988095   \n",
       "std_test_score                         0.0227959   \n",
       "rank_test_score                                1   \n",
       "split0_train_score                             1   \n",
       "split1_train_score                             1   \n",
       "split2_train_score                      0.985075   \n",
       "split3_train_score                      0.985294   \n",
       "split4_train_score                             1   \n",
       "mean_train_score                        0.994074   \n",
       "std_train_score                       0.00725848   \n",
       "\n",
       "                                               40  \\\n",
       "mean_fit_time                         0.000409365   \n",
       "std_fit_time                          4.12749e-05   \n",
       "mean_score_time                       0.000227499   \n",
       "std_score_time                        3.59206e-05   \n",
       "param_C                                        10   \n",
       "param_gamma                                   NaN   \n",
       "param_kernel                               linear   \n",
       "params              {'C': 10, 'kernel': 'linear'}   \n",
       "split0_test_score                               1   \n",
       "split1_test_score                        0.888889   \n",
       "split2_test_score                               1   \n",
       "split3_test_score                               1   \n",
       "split4_test_score                               1   \n",
       "mean_test_score                           0.97619   \n",
       "std_test_score                          0.0455918   \n",
       "rank_test_score                                 4   \n",
       "split0_train_score                              1   \n",
       "split1_train_score                              1   \n",
       "split2_train_score                              1   \n",
       "split3_train_score                              1   \n",
       "split4_train_score                              1   \n",
       "mean_train_score                                1   \n",
       "std_train_score                                 0   \n",
       "\n",
       "                                                41  \n",
       "mean_fit_time                          0.000423384  \n",
       "std_fit_time                           7.14674e-05  \n",
       "mean_score_time                        0.000228739  \n",
       "std_score_time                         3.74833e-05  \n",
       "param_C                                        100  \n",
       "param_gamma                                    NaN  \n",
       "param_kernel                                linear  \n",
       "params              {'C': 100, 'kernel': 'linear'}  \n",
       "split0_test_score                         0.944444  \n",
       "split1_test_score                         0.888889  \n",
       "split2_test_score                                1  \n",
       "split3_test_score                           0.8125  \n",
       "split4_test_score                                1  \n",
       "mean_test_score                           0.928571  \n",
       "std_test_score                            0.070009  \n",
       "rank_test_score                                 13  \n",
       "split0_train_score                               1  \n",
       "split1_train_score                               1  \n",
       "split2_train_score                               1  \n",
       "split3_train_score                               1  \n",
       "split4_train_score                               1  \n",
       "mean_train_score                                 1  \n",
       "std_train_score                                  0  \n",
       "\n",
       "[23 rows x 42 columns]"
      ]
     },
     "metadata": {},
     "output_type": "display_data"
    }
   ],
   "source": [
    "results = pd.DataFrame(grid_search.cv_results_)\n",
    "display(results.T)"
   ]
  },
  {
   "cell_type": "code",
   "execution_count": 30,
   "metadata": {},
   "outputs": [
    {
     "name": "stdout",
     "output_type": "stream",
     "text": [
      "교차 검증 점수: [0.96666667 1.         0.96666667 0.96666667 1.        ]\n",
      "교차 검증 평균 점수: 0.98\n"
     ]
    }
   ],
   "source": [
    "param_grid = {'C': [0.001, 0.01, 0.1, 1, 10, 100], 'gamma': [0.001, 0.01, 0.1, 1, 10, 100]}\n",
    "scores = cross_val_score(GridSearchCV(SVC(), param_grid, cv=5), iris.data, iris.target, cv=5)\n",
    "print('교차 검증 점수: {}'.format(scores))\n",
    "print('교차 검증 평균 점수: {:.2f}'.format(scores.mean()))"
   ]
  },
  {
   "cell_type": "code",
   "execution_count": 31,
   "metadata": {},
   "outputs": [],
   "source": [
    "def nested_cv(X, y, inner_cv, outer_cv, Classifier, parameter_grid):\n",
    "    outer_scores = []\n",
    "    for training_samples, test_samples in outer_cv.split(X, y):\n",
    "        best_params = {}\n",
    "        best_score = -np.inf\n",
    "        for parameters in parameter_grid:\n",
    "            cv_scores = []\n",
    "            for inner_train, inner_test in inner_cv.split(X[training_samples], y[training_samples]):\n",
    "                clf = Classifier(**parameters)\n",
    "                clf.fit(X[inner_train], y[inner_train])\n",
    "                score = clf.score(X[inner_test], y[inner_test])\n",
    "                cv_scores.append(score)\n",
    "            mean_score = np.mean(cv_scores)\n",
    "            if mean_score > best_score:\n",
    "                best_score = mean_score\n",
    "                best_params = parameters\n",
    "        clf = Classifier(**best_params)\n",
    "        clf.fit(X[training_samples], y[training_samples])\n",
    "        outer_scores.append(clf.score(X[test_samples], y[test_samples]))\n",
    "    return np.array(outer_scores)"
   ]
  },
  {
   "cell_type": "code",
   "execution_count": 32,
   "metadata": {},
   "outputs": [
    {
     "name": "stdout",
     "output_type": "stream",
     "text": [
      "교차 검증 점수: [0.96666667 1.         0.96666667 0.96666667 1.        ]\n"
     ]
    }
   ],
   "source": [
    "from sklearn.model_selection import ParameterGrid, StratifiedKFold\n",
    "scores = nested_cv(iris.data, iris.target, StratifiedKFold(5), StratifiedKFold(5), SVC, ParameterGrid(param_grid))\n",
    "print('교차 검증 점수: {}'.format(scores))"
   ]
  },
  {
   "cell_type": "code",
   "execution_count": 33,
   "metadata": {},
   "outputs": [],
   "source": [
    "from sklearn.datasets import load_digits\n",
    "digits = load_digits()\n",
    "y = digits.target == 9\n",
    "X_train, X_test, y_train, y_test = train_test_split(digits.data, y, random_state=0)"
   ]
  },
  {
   "cell_type": "code",
   "execution_count": 34,
   "metadata": {},
   "outputs": [
    {
     "name": "stdout",
     "output_type": "stream",
     "text": [
      "예측된 유니크 레이블: [False]\n",
      "테스트 점수: 0.90\n"
     ]
    }
   ],
   "source": [
    "from sklearn.dummy import DummyClassifier\n",
    "dummy_majority = DummyClassifier(strategy='most_frequent').fit(X_train, y_train)\n",
    "pred_most_frequent = dummy_majority.predict(X_test)\n",
    "print('예측된 유니크 레이블: {}'.format(np.unique(pred_most_frequent)))\n",
    "print('테스트 점수: {:.2f}'.format(dummy_majority.score(X_test, y_test)))"
   ]
  },
  {
   "cell_type": "code",
   "execution_count": 35,
   "metadata": {},
   "outputs": [
    {
     "name": "stdout",
     "output_type": "stream",
     "text": [
      "예측된 유니크 레이블: [False  True]\n",
      "테스트 점수: 0.92\n"
     ]
    }
   ],
   "source": [
    "from sklearn.tree import DecisionTreeClassifier\n",
    "tree = DecisionTreeClassifier(max_depth=2).fit(X_train, y_train)\n",
    "pred_tree = tree.predict(X_test)\n",
    "print('예측된 유니크 레이블: {}'.format(np.unique(pred_tree)))\n",
    "print('테스트 점수: {:.2f}'.format(tree.score(X_test, y_test)))"
   ]
  },
  {
   "cell_type": "code",
   "execution_count": 36,
   "metadata": {},
   "outputs": [
    {
     "name": "stdout",
     "output_type": "stream",
     "text": [
      "dummy 점수: 0.813333\n",
      "logreg 점수: 0.98\n"
     ]
    }
   ],
   "source": [
    "from sklearn.linear_model import LogisticRegression\n",
    "\n",
    "dummy = DummyClassifier().fit(X_train, y_train)\n",
    "pred_dummy = dummy.predict(X_test)\n",
    "print('dummy 점수: {:2f}'.format(dummy.score(X_test, y_test)))\n",
    "\n",
    "logreg = LogisticRegression(C=0.01, solver='liblinear', max_iter=10000).fit(X_train, y_train)\n",
    "pred_logreg = logreg.predict(X_test)\n",
    "print('logreg 점수: {:.2f}'.format(logreg.score(X_test, y_test)))"
   ]
  },
  {
   "cell_type": "code",
   "execution_count": 37,
   "metadata": {},
   "outputs": [
    {
     "name": "stdout",
     "output_type": "stream",
     "text": [
      "오차 행렬: [[401   2]\n",
      " [  7  40]]\n"
     ]
    }
   ],
   "source": [
    "from sklearn.metrics import confusion_matrix\n",
    "confusion = confusion_matrix(y_test, pred_logreg)\n",
    "print('오차 행렬: {}'.format(confusion))"
   ]
  },
  {
   "cell_type": "code",
   "execution_count": 38,
   "metadata": {},
   "outputs": [
    {
     "data": {
      "image/png": "[encoded data removed]",
      "text/plain": [
       "<Figure size 576x576 with 1 Axes>"
      ]
     },
     "metadata": {
      "needs_background": "light"
     },
     "output_type": "display_data"
    }
   ],
   "source": [
    "mglearn.plots.plot_confusion_matrix_illustration()"
   ]
  },
  {
   "cell_type": "code",
   "execution_count": 39,
   "metadata": {},
   "outputs": [
    {
     "data": {
      "image/png": "[encoded data removed]",
      "text/plain": [
       "<Figure size 432x288 with 1 Axes>"
      ]
     },
     "metadata": {
      "needs_background": "light"
     },
     "output_type": "display_data"
    }
   ],
   "source": [
    "mglearn.plots.plot_binary_confusion_matrix()"
   ]
  },
  {
   "cell_type": "code",
   "execution_count": 40,
   "metadata": {},
   "outputs": [
    {
     "name": "stdout",
     "output_type": "stream",
     "text": [
      "빈도 기반 더미 모델:\n",
      "[[403   0]\n",
      " [ 47   0]]\n",
      "\n",
      "무작위 더미 모델:\n",
      "[[372  31]\n",
      " [ 41   6]]\n",
      "\n",
      "결정 트리:\n",
      "[[390  13]\n",
      " [ 24  23]]\n",
      "\n",
      "로지스틱 회귀:\n",
      "[[401   2]\n",
      " [  7  40]]\n"
     ]
    }
   ],
   "source": [
    "print('빈도 기반 더미 모델:')\n",
    "print(confusion_matrix(y_test, pred_most_frequent))\n",
    "print('\\n무작위 더미 모델:')\n",
    "print(confusion_matrix(y_test, pred_dummy))\n",
    "print('\\n결정 트리:')\n",
    "print(confusion_matrix(y_test, pred_tree))\n",
    "print('\\n로지스틱 회귀:')\n",
    "print(confusion_matrix(y_test, pred_logreg))"
   ]
  },
  {
   "cell_type": "code",
   "execution_count": 41,
   "metadata": {},
   "outputs": [
    {
     "name": "stdout",
     "output_type": "stream",
     "text": [
      "빈도 기반 더미 모델의 f1_score: 0.00\n",
      "\n",
      "무작위 더미 모델의 f1_score: 0.14\n",
      "\n",
      "결정 트리의 f1_score: 0.55\n",
      "\n",
      "로지스틱 회귀의 f1_score: 0.90\n"
     ]
    },
    {
     "name": "stderr",
     "output_type": "stream",
     "text": [
      "/usr/local/lib/python3.7/site-packages/sklearn/metrics/classification.py:1143: UndefinedMetricWarning: F-score is ill-defined and being set to 0.0 due to no predicted samples.\n",
      "  'precision', 'predicted', average, warn_for)\n"
     ]
    }
   ],
   "source": [
    "from sklearn.metrics import f1_score\n",
    "print('빈도 기반 더미 모델의 f1_score: {:.2f}'.format(f1_score(y_test, pred_most_frequent)))   # 분모가 0이 되어 warning 메시지 출력됨\n",
    "print('\\n무작위 더미 모델의 f1_score: {:.2f}'.format(f1_score(y_test, pred_dummy)))\n",
    "print('\\n결정 트리의 f1_score: {:.2f}'.format(f1_score(y_test, pred_tree)))\n",
    "print('\\n로지스틱 회귀의 f1_score: {:.2f}'.format(f1_score(y_test, pred_logreg)))"
   ]
  },
  {
   "cell_type": "code",
   "execution_count": 42,
   "metadata": {},
   "outputs": [
    {
     "name": "stdout",
     "output_type": "stream",
     "text": [
      "              precision    recall  f1-score   support\n",
      "\n",
      "        9 아님       0.90      1.00      0.94       403\n",
      "           9       0.00      0.00      0.00        47\n",
      "\n",
      "   micro avg       0.90      0.90      0.90       450\n",
      "   macro avg       0.45      0.50      0.47       450\n",
      "weighted avg       0.80      0.90      0.85       450\n",
      "\n"
     ]
    },
    {
     "name": "stderr",
     "output_type": "stream",
     "text": [
      "/usr/local/lib/python3.7/site-packages/sklearn/metrics/classification.py:1143: UndefinedMetricWarning: Precision and F-score are ill-defined and being set to 0.0 in labels with no predicted samples.\n",
      "  'precision', 'predicted', average, warn_for)\n"
     ]
    }
   ],
   "source": [
    "from sklearn.metrics import classification_report\n",
    "print(classification_report(y_test, pred_most_frequent, target_names=['9 아님', '9']))"
   ]
  },
  {
   "cell_type": "code",
   "execution_count": 43,
   "metadata": {},
   "outputs": [
    {
     "name": "stdout",
     "output_type": "stream",
     "text": [
      "              precision    recall  f1-score   support\n",
      "\n",
      "        9 아님       0.90      0.92      0.91       403\n",
      "           9       0.16      0.13      0.14        47\n",
      "\n",
      "   micro avg       0.84      0.84      0.84       450\n",
      "   macro avg       0.53      0.53      0.53       450\n",
      "weighted avg       0.82      0.84      0.83       450\n",
      "\n"
     ]
    }
   ],
   "source": [
    "print(classification_report(y_test, pred_dummy, target_names=['9 아님', '9']))"
   ]
  },
  {
   "cell_type": "code",
   "execution_count": 44,
   "metadata": {},
   "outputs": [
    {
     "name": "stdout",
     "output_type": "stream",
     "text": [
      "              precision    recall  f1-score   support\n",
      "\n",
      "        9 아님       0.98      1.00      0.99       403\n",
      "           9       0.95      0.85      0.90        47\n",
      "\n",
      "   micro avg       0.98      0.98      0.98       450\n",
      "   macro avg       0.97      0.92      0.94       450\n",
      "weighted avg       0.98      0.98      0.98       450\n",
      "\n"
     ]
    }
   ],
   "source": [
    "print(classification_report(y_test, pred_logreg, target_names=['9 아님', '9']))"
   ]
  },
  {
   "cell_type": "code",
   "execution_count": 45,
   "metadata": {},
   "outputs": [
    {
     "data": {
      "image/png": "[encoded data removed]",
      "text/plain": [
       "<Figure size 1080x576 with 6 Axes>"
      ]
     },
     "metadata": {},
     "output_type": "display_data"
    }
   ],
   "source": [
    "from sklearn.datasets import make_blobs\n",
    "X, y = make_blobs(n_samples=(400,50), cluster_std=[7.0, 2], random_state=22)\n",
    "X_train, X_test, y_train, y_test = train_test_split(X, y, random_state=0)\n",
    "svc = SVC(gamma=0.5).fit(X_train, y_train)\n",
    "\n",
    "mglearn.plots.plot_decision_threshold()"
   ]
  },
  {
   "cell_type": "code",
   "execution_count": 46,
   "metadata": {},
   "outputs": [
    {
     "name": "stdout",
     "output_type": "stream",
     "text": [
      "              precision    recall  f1-score   support\n",
      "\n",
      "           0       0.94      0.88      0.91       104\n",
      "           1       0.20      0.33      0.25         9\n",
      "\n",
      "   micro avg       0.84      0.84      0.84       113\n",
      "   macro avg       0.57      0.61      0.58       113\n",
      "weighted avg       0.88      0.84      0.86       113\n",
      "\n"
     ]
    }
   ],
   "source": [
    "print(classification_report(y_test, svc.predict(X_test)))"
   ]
  },
  {
   "cell_type": "code",
   "execution_count": 47,
   "metadata": {},
   "outputs": [],
   "source": [
    "y_pred_lower_threshold = svc.decision_function(X_test) > -.8"
   ]
  },
  {
   "cell_type": "code",
   "execution_count": 48,
   "metadata": {},
   "outputs": [
    {
     "name": "stdout",
     "output_type": "stream",
     "text": [
      "              precision    recall  f1-score   support\n",
      "\n",
      "           0       1.00      0.81      0.89       104\n",
      "           1       0.31      1.00      0.47         9\n",
      "\n",
      "   micro avg       0.82      0.82      0.82       113\n",
      "   macro avg       0.66      0.90      0.68       113\n",
      "weighted avg       0.95      0.82      0.86       113\n",
      "\n"
     ]
    }
   ],
   "source": [
    "print(classification_report(y_test, y_pred_lower_threshold))"
   ]
  },
  {
   "cell_type": "code",
   "execution_count": 49,
   "metadata": {},
   "outputs": [],
   "source": [
    "from sklearn.metrics import precision_recall_curve\n",
    "precision, recall, thresholds = precision_recall_curve(y_test, svc.decision_function(X_test))"
   ]
  },
  {
   "cell_type": "code",
   "execution_count": 50,
   "metadata": {},
   "outputs": [
    {
     "data": {
      "text/plain": [
       "<matplotlib.legend.Legend at 0x10ffe4940>"
      ]
     },
     "execution_count": 50,
     "metadata": {},
     "output_type": "execute_result"
    },
    {
     "data": {
      "image/png": "[encoded data removed]",
      "text/plain": [
       "<Figure size 432x288 with 1 Axes>"
      ]
     },
     "metadata": {
      "needs_background": "light"
     },
     "output_type": "display_data"
    }
   ],
   "source": [
    "X, y = make_blobs(n_samples=(4000, 500), cluster_std=[7.0, 2], random_state=22)\n",
    "X_train, X_test, y_train, y_test = train_test_split(X, y, random_state=0)\n",
    "svc = SVC(gamma=0.5).fit(X_train, y_train)\n",
    "precision, recall, thresholds = precision_recall_curve(y_test, svc.decision_function(X_test))\n",
    "close_zero = np.argmin(np.abs(thresholds))\n",
    "plt.plot(precision[close_zero], recall[close_zero], 'o', markersize=10, label='임계값 0', fillstyle='none', c='k', mew=2)\n",
    "plt.plot(precision, recall, label='정밀도-재현율 곡선')\n",
    "plt.xlabel('정밀도')\n",
    "plt.ylabel('재현율')\n",
    "plt.legend(loc='best')"
   ]
  },
  {
   "cell_type": "code",
   "execution_count": 51,
   "metadata": {},
   "outputs": [
    {
     "data": {
      "text/plain": [
       "<matplotlib.legend.Legend at 0x10f990d30>"
      ]
     },
     "execution_count": 51,
     "metadata": {},
     "output_type": "execute_result"
    },
    {
     "data": {
      "image/png": "[encoded data removed]",
      "text/plain": [
       "<Figure size 432x288 with 1 Axes>"
      ]
     },
     "metadata": {
      "needs_background": "light"
     },
     "output_type": "display_data"
    }
   ],
   "source": [
    "from sklearn.ensemble import RandomForestClassifier\n",
    "rf = RandomForestClassifier(n_estimators=100, random_state=0, max_features=2)\n",
    "rf.fit(X_train, y_train)\n",
    "precision_rf, recall_rf, threshods_rf = precision_recall_curve(y_test, rf.predict_proba(X_test)[:,1])\n",
    "plt.plot(precision, recall, label='svc')\n",
    "plt.plot(precision[close_zero], recall[close_zero], 'o', markersize=10, label='svc: 임계값 0', fillstyle='none', c='k', mew=2)\n",
    "plt.plot(precision_rf, recall_rf, label='rf')\n",
    "close_default_rf = np.argmin(np.abs(threshods_rf - 0.5))\n",
    "plt.plot(precision_rf[close_default_rf], recall_rf[close_default_rf], '^', markersize=10, label='rf: 임계값 0.5', fillstyle='none', mew=2)\n",
    "plt.xlabel('정밀도')\n",
    "plt.ylabel('재현율')\n",
    "plt.legend(loc='best')"
   ]
  },
  {
   "cell_type": "code",
   "execution_count": 52,
   "metadata": {},
   "outputs": [
    {
     "name": "stdout",
     "output_type": "stream",
     "text": [
      "랜덤 포레스트의 f1_score: 0.610\n",
      "svc의 f1_score: 0.656\n"
     ]
    }
   ],
   "source": [
    "print('랜덤 포레스트의 f1_score: {:.3f}'.format(f1_score(y_test, rf.predict(X_test))))\n",
    "print('svc의 f1_score: {:.3f}'.format(f1_score(y_test, svc.predict(X_test))))"
   ]
  },
  {
   "cell_type": "code",
   "execution_count": 53,
   "metadata": {},
   "outputs": [
    {
     "name": "stdout",
     "output_type": "stream",
     "text": [
      "랜덤 포레스트의 평균 정밀도: 0.660\n",
      "svc의 평균 정밀도: 0.567\n"
     ]
    }
   ],
   "source": [
    "from sklearn.metrics import average_precision_score\n",
    "ap_rf = average_precision_score(y_test, rf.predict_proba(X_test)[:,1])\n",
    "ap_svc = average_precision_score(y_test, svc.decision_function(X_test))\n",
    "print('랜덤 포레스트의 평균 정밀도: {:.3f}'.format(ap_rf))\n",
    "print('svc의 평균 정밀도: {:.3f}'.format(ap_svc))"
   ]
  },
  {
   "cell_type": "code",
   "execution_count": 54,
   "metadata": {},
   "outputs": [
    {
     "data": {
      "text/plain": [
       "<matplotlib.legend.Legend at 0x10fa5b4a8>"
      ]
     },
     "execution_count": 54,
     "metadata": {},
     "output_type": "execute_result"
    },
    {
     "data": {
      "image/png": "[encoded data removed]",
      "text/plain": [
       "<Figure size 432x288 with 1 Axes>"
      ]
     },
     "metadata": {
      "needs_background": "light"
     },
     "output_type": "display_data"
    }
   ],
   "source": [
    "from sklearn.metrics import roc_curve\n",
    "fpr, tpr, thresholds = roc_curve(y_test, svc.decision_function(X_test))\n",
    "plt.plot(fpr, tpr, label='ROC Curve')\n",
    "plt.xlabel('FPR')\n",
    "plt.ylabel('TPR(재현율)')\n",
    "close_zero = np.argmin(np.abs(thresholds))\n",
    "plt.plot(fpr[close_zero], tpr[close_zero], 'o', markersize=10, label='임계값 0', fillstyle='none', c='k', mew=2)\n",
    "plt.legend(loc=4)"
   ]
  },
  {
   "cell_type": "code",
   "execution_count": 55,
   "metadata": {},
   "outputs": [
    {
     "data": {
      "text/plain": [
       "<matplotlib.legend.Legend at 0x10faf2eb8>"
      ]
     },
     "execution_count": 55,
     "metadata": {},
     "output_type": "execute_result"
    },
    {
     "data": {
      "image/png": "[encoded data removed]",
      "text/plain": [
       "<Figure size 432x288 with 1 Axes>"
      ]
     },
     "metadata": {
      "needs_background": "light"
     },
     "output_type": "display_data"
    }
   ],
   "source": [
    "from sklearn.metrics import roc_curve\n",
    "fpr_rf, tpr_rf, thresholds_rf = roc_curve(y_test, rf.predict_proba(X_test)[:,1])\n",
    "plt.plot(fpr, tpr, label='SVC의 ROC 곡선')\n",
    "plt.plot(fpr_rf, tpr_rf, label='랜덤 포레스트의 ROC 곡선')\n",
    "plt.xlabel('FPR')\n",
    "plt.ylabel('TPR')\n",
    "plt.plot(fpr[close_zero], tpr[close_zero], 'o', markersize=10, label='SVC 임계값 0', fillstyle='none', c='k', mew=2)\n",
    "close_default_rf = np.argmin(np.abs(thresholds_rf - 0.5))\n",
    "plt.plot(fpr_rf[close_default_rf], tpr_rf[close_default_rf], '^', markersize=10, label='RF 임계값 0.5', fillstyle='none', mew=2)\n",
    "plt.legend(loc=4)"
   ]
  },
  {
   "cell_type": "code",
   "execution_count": 56,
   "metadata": {},
   "outputs": [
    {
     "name": "stdout",
     "output_type": "stream",
     "text": [
      "랜덤 포레스트의 AUC: 0.937\n",
      "SVC의 AUC: 0.836\n"
     ]
    }
   ],
   "source": [
    "from sklearn.metrics import roc_auc_score\n",
    "rf_auc = roc_auc_score(y_test, rf.predict_proba(X_test)[:,1])\n",
    "svc_auc = roc_auc_score(y_test, svc.decision_function(X_test))\n",
    "print('랜덤 포레스트의 AUC: {:.3f}'.format(rf_auc))\n",
    "print('SVC의 AUC: {:.3f}'.format(svc_auc))"
   ]
  },
  {
   "cell_type": "code",
   "execution_count": 57,
   "metadata": {},
   "outputs": [
    {
     "name": "stdout",
     "output_type": "stream",
     "text": [
      "gamma = 1.0000, 정확도 = 0.8956, AUC = 0.5000\n",
      "gamma = 0.1000, 정확도 = 0.8956, AUC = 0.9582\n",
      "gamma = 0.0100, 정확도 = 0.8956, AUC = 0.9995\n"
     ]
    },
    {
     "data": {
      "text/plain": [
       "<matplotlib.legend.Legend at 0x10f5f6198>"
      ]
     },
     "execution_count": 57,
     "metadata": {},
     "output_type": "execute_result"
    },
    {
     "data": {
      "image/png": "[encoded data removed]",
      "text/plain": [
       "<Figure size 432x288 with 1 Axes>"
      ]
     },
     "metadata": {
      "needs_background": "light"
     },
     "output_type": "display_data"
    }
   ],
   "source": [
    "y = digits.target == 9\n",
    "X_train, X_test, y_train, y_test = train_test_split(digits.data, y, random_state=0)\n",
    "plt.figure()\n",
    "\n",
    "for gamma in [1, 0.1, 0.01]:\n",
    "    svc = SVC(gamma=gamma).fit(X_train, y_train)\n",
    "    accuracy = svc.score(X_test, y_test)\n",
    "    auc = roc_auc_score(y_test, svc.decision_function(X_test))\n",
    "    fpr, tpr, _ = roc_curve(y_test, svc.decision_function(X_test))\n",
    "    print('gamma = {:.4f}, 정확도 = {:.4f}, AUC = {:.4f}'.format(gamma, accuracy, auc))\n",
    "    plt.plot(fpr, tpr, label='gamma={:.3f}'.format(gamma))\n",
    "plt.xlabel('FPR')\n",
    "plt.ylabel('TPR')\n",
    "plt.xlim(-0.01, 1)\n",
    "plt.ylim(0, 1.02)\n",
    "plt.legend(loc='best')"
   ]
  },
  {
   "cell_type": "code",
   "execution_count": 58,
   "metadata": {},
   "outputs": [
    {
     "name": "stdout",
     "output_type": "stream",
     "text": [
      "정확도\" 0.953\n",
      "오차 행렬:\n",
      "[[37  0  0  0  0  0  0  0  0  0]\n",
      " [ 0 39  0  0  0  0  2  0  2  0]\n",
      " [ 0  0 41  3  0  0  0  0  0  0]\n",
      " [ 0  0  1 43  0  0  0  0  0  1]\n",
      " [ 0  0  0  0 38  0  0  0  0  0]\n",
      " [ 0  1  0  0  0 47  0  0  0  0]\n",
      " [ 0  0  0  0  0  0 52  0  0  0]\n",
      " [ 0  1  0  1  1  0  0 45  0  0]\n",
      " [ 0  3  1  0  0  0  0  0 43  1]\n",
      " [ 0  0  0  1  0  1  0  0  1 44]]\n"
     ]
    }
   ],
   "source": [
    "from sklearn.metrics import accuracy_score\n",
    "X_train, X_test, y_train, y_test = train_test_split(digits.data, digits.target, random_state=0)\n",
    "lr = LogisticRegression(solver='liblinear', multi_class='auto').fit(X_train, y_train)\n",
    "pred = lr.predict(X_test)\n",
    "print('정확도\" {:.3f}'.format(accuracy_score(y_test, pred)))\n",
    "print('오차 행렬:\\n{}'.format(confusion_matrix(y_test, pred)))"
   ]
  },
  {
   "cell_type": "code",
   "execution_count": 59,
   "metadata": {},
   "outputs": [
    {
     "data": {
      "image/png": "[encoded data removed]",
      "text/plain": [
       "<Figure size 432x288 with 1 Axes>"
      ]
     },
     "metadata": {
      "needs_background": "light"
     },
     "output_type": "display_data"
    }
   ],
   "source": [
    "score_image = mglearn.tools.heatmap(confusion_matrix(y_test, pred), xlabel='예측 레이블', ylabel='진짜 레이블', xticklabels=digits.target_names,\n",
    "                                   yticklabels=digits.target_names, cmap=plt.cm.gray_r, fmt='%d')\n",
    "plt.title('오차 행렬')\n",
    "plt.gca().invert_yaxis()"
   ]
  },
  {
   "cell_type": "code",
   "execution_count": 60,
   "metadata": {},
   "outputs": [
    {
     "name": "stdout",
     "output_type": "stream",
     "text": [
      "              precision    recall  f1-score   support\n",
      "\n",
      "           0       1.00      1.00      1.00        37\n",
      "           1       0.89      0.91      0.90        43\n",
      "           2       0.95      0.93      0.94        44\n",
      "           3       0.90      0.96      0.92        45\n",
      "           4       0.97      1.00      0.99        38\n",
      "           5       0.98      0.98      0.98        48\n",
      "           6       0.96      1.00      0.98        52\n",
      "           7       1.00      0.94      0.97        48\n",
      "           8       0.93      0.90      0.91        48\n",
      "           9       0.96      0.94      0.95        47\n",
      "\n",
      "   micro avg       0.95      0.95      0.95       450\n",
      "   macro avg       0.95      0.95      0.95       450\n",
      "weighted avg       0.95      0.95      0.95       450\n",
      "\n"
     ]
    }
   ],
   "source": [
    "print(classification_report(y_test, pred))"
   ]
  },
  {
   "cell_type": "code",
   "execution_count": 61,
   "metadata": {},
   "outputs": [
    {
     "name": "stdout",
     "output_type": "stream",
     "text": [
      "micro 평균 f1 점수: 0.953\n",
      "macro 평균 f1 점수: 0.954\n"
     ]
    }
   ],
   "source": [
    "print('micro 평균 f1 점수: {:.3f}'.format(f1_score(y_test, pred, average='micro')))\n",
    "print('macro 평균 f1 점수: {:.3f}'.format(f1_score(y_test, pred, average='macro')))"
   ]
  },
  {
   "cell_type": "code",
   "execution_count": 62,
   "metadata": {},
   "outputs": [
    {
     "name": "stdout",
     "output_type": "stream",
     "text": [
      "기본 평가지표: [0.9        0.9        0.89972145 0.89972145 0.89972145]\n",
      "정확도 지표: [0.9        0.9        0.89972145 0.89972145 0.89972145]\n",
      "AUC 지표: [0.99674211 0.99725652 0.99552804 0.99836601 0.99165807]\n"
     ]
    }
   ],
   "source": [
    "print('기본 평가지표: {}'.format(cross_val_score(SVC(gamma='auto'), digits.data, digits.target == 9, cv=5)))\n",
    "explicit_accuracy = cross_val_score(SVC(gamma='auto'), digits.data, digits.target == 9, scoring='accuracy', cv=5)\n",
    "print('정확도 지표: {}'.format(explicit_accuracy))\n",
    "roc_auc = cross_val_score(SVC(gamma='auto'), digits.data, digits.target == 9, cv=5, scoring='roc_auc')\n",
    "print('AUC 지표: {}'.format(roc_auc))"
   ]
  },
  {
   "cell_type": "code",
   "execution_count": 63,
   "metadata": {},
   "outputs": [
    {
     "name": "stdout",
     "output_type": "stream",
     "text": [
      "**정확도 지표를 사용한 그리드 서치**\n",
      "최적의 매개변수:  {'gamma': 0.0001}\n",
      "최상의 교차 검증 점수(정확도): 0.976\n",
      "테스트 세트 AUC: 0.992\n",
      "테스트 세트 정확도: 0.973s\n"
     ]
    }
   ],
   "source": [
    "X_train, X_test, y_train, y_test = train_test_split(digits.data, digits.target == 9, random_state=0)\n",
    "param_grid = {'gamma': [0.0001, 0.01, 0.1, 1, 10]}\n",
    "\n",
    "grid = GridSearchCV(SVC(gamma='auto'), param_grid=param_grid, cv=5)\n",
    "grid.fit(X_train, y_train)\n",
    "print('**정확도 지표를 사용한 그리드 서치**')\n",
    "print('최적의 매개변수: ', grid.best_params_)\n",
    "print('최상의 교차 검증 점수(정확도): {:.3f}'.format(grid.best_score_))\n",
    "print('테스트 세트 AUC: {:.3f}'.format(roc_auc_score(y_test, grid.decision_function(X_test))))\n",
    "print('테스트 세트 정확도: {:.3f}s'.format(grid.score(X_test, y_test)))"
   ]
  },
  {
   "cell_type": "code",
   "execution_count": 64,
   "metadata": {},
   "outputs": [
    {
     "name": "stdout",
     "output_type": "stream",
     "text": [
      "**AUC 지표를 사용한 그리드 서치**\n",
      "최적의 매개변수:  {'gamma': 0.01}\n",
      "최상의 교차 검증 점수(AUC): 0.998\n",
      "테스트 세트 AUC: 1.000\n",
      "테스트 세트 정확도: 1.000s\n"
     ]
    }
   ],
   "source": [
    "grid = GridSearchCV(SVC(gamma='auto'), param_grid=param_grid, cv=5, scoring='roc_auc')\n",
    "grid.fit(X_train, y_train)\n",
    "print('**AUC 지표를 사용한 그리드 서치**')\n",
    "print('최적의 매개변수: ', grid.best_params_)\n",
    "print('최상의 교차 검증 점수(AUC): {:.3f}'.format(grid.best_score_))\n",
    "print('테스트 세트 AUC: {:.3f}'.format(roc_auc_score(y_test, grid.decision_function(X_test))))\n",
    "print('테스트 세트 정확도: {:.3f}s'.format(grid.score(X_test, y_test)))"
   ]
  },
  {
   "cell_type": "code",
   "execution_count": 65,
   "metadata": {},
   "outputs": [
    {
     "name": "stdout",
     "output_type": "stream",
     "text": [
      "가능한 평가 방식:\n",
      "dict_keys(['explained_variance', 'r2', 'neg_median_absolute_error', 'neg_mean_absolute_error', 'neg_mean_squared_error', 'neg_mean_squared_log_error', 'accuracy', 'roc_auc', 'balanced_accuracy', 'average_precision', 'neg_log_loss', 'brier_score_loss', 'adjusted_rand_score', 'homogeneity_score', 'completeness_score', 'v_measure_score', 'mutual_info_score', 'adjusted_mutual_info_score', 'normalized_mutual_info_score', 'fowlkes_mallows_score', 'precision', 'precision_macro', 'precision_micro', 'precision_samples', 'precision_weighted', 'recall', 'recall_macro', 'recall_micro', 'recall_samples', 'recall_weighted', 'f1', 'f1_macro', 'f1_micro', 'f1_samples', 'f1_weighted'])\n"
     ]
    }
   ],
   "source": [
    "from sklearn.metrics.scorer import SCORERS\n",
    "print('가능한 평가 방식:\\n{}'.format(SCORERS.keys()))"
   ]
  },
  {
   "cell_type": "code",
   "execution_count": null,
   "metadata": {},
   "outputs": [],
   "source": []
  }
 ],
 "metadata": {
  "kernelspec": {
   "display_name": "Python 3",
   "language": "python",
   "name": "python3"
  },
  "language_info": {
   "codemirror_mode": {
    "name": "ipython",
    "version": 3
   },
   "file_extension": ".py",
   "mimetype": "text/x-python",
   "name": "python",
   "nbconvert_exporter": "python",
   "pygments_lexer": "ipython3",
   "version": "3.7.0"
  }
 },
 "nbformat": 4,
 "nbformat_minor": 2
}
